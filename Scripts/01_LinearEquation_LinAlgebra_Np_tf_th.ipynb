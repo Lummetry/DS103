{
 "cells": [
  {
   "cell_type": "code",
   "execution_count": 1,
   "metadata": {},
   "outputs": [],
   "source": [
    "import numpy as np\n",
    "import tensorflow as tf\n",
    "import torch as th"
   ]
  },
  {
   "cell_type": "code",
   "execution_count": 2,
   "metadata": {},
   "outputs": [
    {
     "data": {
      "text/plain": [
       "'1.16.5'"
      ]
     },
     "execution_count": 2,
     "metadata": {},
     "output_type": "execute_result"
    }
   ],
   "source": [
    "np.__version__"
   ]
  },
  {
   "cell_type": "code",
   "execution_count": 3,
   "metadata": {},
   "outputs": [
    {
     "data": {
      "text/plain": [
       "'2.1.0'"
      ]
     },
     "execution_count": 3,
     "metadata": {},
     "output_type": "execute_result"
    }
   ],
   "source": [
    "tf.__version__"
   ]
  },
  {
   "cell_type": "code",
   "execution_count": 4,
   "metadata": {},
   "outputs": [
    {
     "data": {
      "text/plain": [
       "'1.4.0'"
      ]
     },
     "execution_count": 4,
     "metadata": {},
     "output_type": "execute_result"
    }
   ],
   "source": [
    "th.__version__"
   ]
  },
  {
   "cell_type": "code",
   "execution_count": 34,
   "metadata": {},
   "outputs": [],
   "source": [
    "import pandas as pd"
   ]
  },
  {
   "cell_type": "code",
   "execution_count": 5,
   "metadata": {},
   "outputs": [],
   "source": [
    "tf.config.set_visible_devices([], 'GPU')"
   ]
  },
  {
   "cell_type": "code",
   "execution_count": 6,
   "metadata": {},
   "outputs": [],
   "source": [
    "X = np.random.randn(100,5)"
   ]
  },
  {
   "cell_type": "code",
   "execution_count": 7,
   "metadata": {},
   "outputs": [
    {
     "data": {
      "text/plain": [
       "(100, 5)"
      ]
     },
     "execution_count": 7,
     "metadata": {},
     "output_type": "execute_result"
    }
   ],
   "source": [
    "X.shape"
   ]
  },
  {
   "cell_type": "code",
   "execution_count": 9,
   "metadata": {},
   "outputs": [
    {
     "data": {
      "text/plain": [
       "array([[ 1.4724413 , -0.20693254,  1.8911695 ,  0.01344768, -0.85709534],\n",
       "       [-0.15302793, -2.26994167, -0.0777953 , -1.02104214, -0.67252393],\n",
       "       [-0.72153483, -0.76947224,  1.42082275, -0.0618513 , -1.48820933],\n",
       "       [-0.3644801 , -1.38207133, -0.10794663, -1.59402099,  1.24163734],\n",
       "       [-2.09322333,  0.16440003, -0.79866581, -0.01684925, -0.394218  ],\n",
       "       [-0.12433771, -0.24219916,  1.27051678,  0.46489733, -0.39925367],\n",
       "       [-1.36190415,  1.65805189, -0.17231741, -0.21647334,  0.93649158],\n",
       "       [-0.08338457, -0.222076  , -0.18900341,  1.62804291,  0.10137476],\n",
       "       [ 0.71557195, -0.19558445, -0.61039342,  0.51209783, -0.19807739],\n",
       "       [ 0.6599818 , -0.48191418,  0.77877636, -0.67017601,  1.10167351]])"
      ]
     },
     "execution_count": 9,
     "metadata": {},
     "output_type": "execute_result"
    }
   ],
   "source": [
    "X[:10,:]"
   ]
  },
  {
   "cell_type": "code",
   "execution_count": 17,
   "metadata": {},
   "outputs": [],
   "source": [
    "X_bias = np.concatenate((X, np.ones(shape=(100,1))), axis=1)"
   ]
  },
  {
   "cell_type": "code",
   "execution_count": 18,
   "metadata": {},
   "outputs": [
    {
     "data": {
      "text/plain": [
       "array([[ 1.4724413 , -0.20693254,  1.8911695 ,  0.01344768, -0.85709534,\n",
       "         1.        ],\n",
       "       [-0.15302793, -2.26994167, -0.0777953 , -1.02104214, -0.67252393,\n",
       "         1.        ],\n",
       "       [-0.72153483, -0.76947224,  1.42082275, -0.0618513 , -1.48820933,\n",
       "         1.        ],\n",
       "       [-0.3644801 , -1.38207133, -0.10794663, -1.59402099,  1.24163734,\n",
       "         1.        ],\n",
       "       [-2.09322333,  0.16440003, -0.79866581, -0.01684925, -0.394218  ,\n",
       "         1.        ],\n",
       "       [-0.12433771, -0.24219916,  1.27051678,  0.46489733, -0.39925367,\n",
       "         1.        ],\n",
       "       [-1.36190415,  1.65805189, -0.17231741, -0.21647334,  0.93649158,\n",
       "         1.        ],\n",
       "       [-0.08338457, -0.222076  , -0.18900341,  1.62804291,  0.10137476,\n",
       "         1.        ],\n",
       "       [ 0.71557195, -0.19558445, -0.61039342,  0.51209783, -0.19807739,\n",
       "         1.        ],\n",
       "       [ 0.6599818 , -0.48191418,  0.77877636, -0.67017601,  1.10167351,\n",
       "         1.        ]])"
      ]
     },
     "execution_count": 18,
     "metadata": {},
     "output_type": "execute_result"
    }
   ],
   "source": [
    "X_bias[:10]"
   ]
  },
  {
   "cell_type": "code",
   "execution_count": 21,
   "metadata": {},
   "outputs": [],
   "source": [
    "y = np.random.randn(100,1)"
   ]
  },
  {
   "cell_type": "code",
   "execution_count": 22,
   "metadata": {},
   "outputs": [
    {
     "data": {
      "text/plain": [
       "(100, 6)"
      ]
     },
     "execution_count": 22,
     "metadata": {},
     "output_type": "execute_result"
    }
   ],
   "source": [
    "X_bias.shape"
   ]
  },
  {
   "cell_type": "code",
   "execution_count": 23,
   "metadata": {},
   "outputs": [
    {
     "data": {
      "text/plain": [
       "(100, 1)"
      ]
     },
     "execution_count": 23,
     "metadata": {},
     "output_type": "execute_result"
    }
   ],
   "source": [
    "y.shape"
   ]
  },
  {
   "cell_type": "code",
   "execution_count": 48,
   "metadata": {},
   "outputs": [],
   "source": [
    "lmbd = 0.0 # controls overfit"
   ]
  },
  {
   "cell_type": "code",
   "execution_count": 49,
   "metadata": {},
   "outputs": [],
   "source": [
    "# Theta = (X^T.X)^(-1).(X^T).y\n",
    "np_theta = np.linalg.inv(X_bias.T.dot(X_bias) + lmbd * np.eye(X_bias.shape[1])).dot(X_bias.T).dot(y)"
   ]
  },
  {
   "cell_type": "code",
   "execution_count": 50,
   "metadata": {},
   "outputs": [
    {
     "data": {
      "text/plain": [
       "array([[-0.10586276],\n",
       "       [-0.01440132],\n",
       "       [ 0.03569265],\n",
       "       [ 0.09521986],\n",
       "       [ 0.0561542 ],\n",
       "       [-0.04208463]])"
      ]
     },
     "execution_count": 50,
     "metadata": {},
     "output_type": "execute_result"
    }
   ],
   "source": [
    "np_theta"
   ]
  },
  {
   "cell_type": "code",
   "execution_count": 32,
   "metadata": {},
   "outputs": [],
   "source": [
    "def np_predict(x_test, theta):\n",
    "    return x_test.dot(theta)"
   ]
  },
  {
   "cell_type": "code",
   "execution_count": 33,
   "metadata": {},
   "outputs": [],
   "source": [
    "def test_mae(x_test, y_test, theta):\n",
    "    y_pred = np_predict(x_test, theta)\n",
    "    mae = np.abs(y_test - y_pred).mean()\n",
    "    return mae"
   ]
  },
  {
   "cell_type": "code",
   "execution_count": 35,
   "metadata": {},
   "outputs": [],
   "source": [
    "def test_analysis(x_test, y_test, theta):\n",
    "    mae = test_mae(x_test, y_test, theta)\n",
    "    y_pred = np_predict(x_test, theta)\n",
    "    print(\"Mean abs error: {:.1f}\".format(mae))\n",
    "    print(\"A few preds vs test reality:\")\n",
    "    df_result = pd.DataFrame({'reality' : y_test, 'predictions':y_pred})\n",
    "    print(df_result.head(20))"
   ]
  },
  {
   "cell_type": "code",
   "execution_count": 39,
   "metadata": {},
   "outputs": [
    {
     "data": {
      "text/plain": [
       "<tf.Tensor: shape=(5, 6), dtype=float64, numpy=\n",
       "array([[ 1.4724413 , -0.20693254,  1.8911695 ,  0.01344768, -0.85709534,\n",
       "         1.        ],\n",
       "       [-0.15302793, -2.26994167, -0.0777953 , -1.02104214, -0.67252393,\n",
       "         1.        ],\n",
       "       [-0.72153483, -0.76947224,  1.42082275, -0.0618513 , -1.48820933,\n",
       "         1.        ],\n",
       "       [-0.3644801 , -1.38207133, -0.10794663, -1.59402099,  1.24163734,\n",
       "         1.        ],\n",
       "       [-2.09322333,  0.16440003, -0.79866581, -0.01684925, -0.394218  ,\n",
       "         1.        ]])>"
      ]
     },
     "execution_count": 39,
     "metadata": {},
     "output_type": "execute_result"
    }
   ],
   "source": [
    "tf_X_bias = tf.constant(X_bias)\n",
    "tf_X_bias[:5]"
   ]
  },
  {
   "cell_type": "code",
   "execution_count": 40,
   "metadata": {},
   "outputs": [
    {
     "data": {
      "text/plain": [
       "<tf.Tensor: shape=(5, 1), dtype=float64, numpy=\n",
       "array([[ 1.16381326],\n",
       "       [ 0.06101082],\n",
       "       [-1.27123443],\n",
       "       [-1.54717364],\n",
       "       [ 0.11969632]])>"
      ]
     },
     "execution_count": 40,
     "metadata": {},
     "output_type": "execute_result"
    }
   ],
   "source": [
    "tf_y = tf.constant(y)\n",
    "tf_y[:5]"
   ]
  },
  {
   "cell_type": "code",
   "execution_count": 46,
   "metadata": {},
   "outputs": [],
   "source": [
    "# Theta = (X^T.X)^(-1).(X^T).y\n",
    "\n",
    "tf_theta = tf.matmul(tf.matmul(a=tf.linalg.inv(tf.matmul(tf_X_bias, tf_X_bias, transpose_a=True)),b=tf_X_bias, transpose_b=True) , tf_y)"
   ]
  },
  {
   "cell_type": "code",
   "execution_count": 47,
   "metadata": {},
   "outputs": [
    {
     "data": {
      "text/plain": [
       "<tf.Tensor: shape=(6, 1), dtype=float64, numpy=\n",
       "array([[-0.10586276],\n",
       "       [-0.01440132],\n",
       "       [ 0.03569265],\n",
       "       [ 0.09521986],\n",
       "       [ 0.0561542 ],\n",
       "       [-0.04208463]])>"
      ]
     },
     "execution_count": 47,
     "metadata": {},
     "output_type": "execute_result"
    }
   ],
   "source": [
    "tf_theta"
   ]
  },
  {
   "cell_type": "code",
   "execution_count": 51,
   "metadata": {},
   "outputs": [
    {
     "data": {
      "text/plain": [
       "array([[-0.10586276],\n",
       "       [-0.01440132],\n",
       "       [ 0.03569265],\n",
       "       [ 0.09521986],\n",
       "       [ 0.0561542 ],\n",
       "       [-0.04208463]])"
      ]
     },
     "execution_count": 51,
     "metadata": {},
     "output_type": "execute_result"
    }
   ],
   "source": [
    "np_theta"
   ]
  },
  {
   "cell_type": "code",
   "execution_count": 52,
   "metadata": {},
   "outputs": [],
   "source": [
    "th_dev = th.device('cuda')"
   ]
  },
  {
   "cell_type": "code",
   "execution_count": 53,
   "metadata": {},
   "outputs": [
    {
     "data": {
      "text/plain": [
       "device(type='cuda')"
      ]
     },
     "execution_count": 53,
     "metadata": {},
     "output_type": "execute_result"
    }
   ],
   "source": [
    "th_dev"
   ]
  },
  {
   "cell_type": "code",
   "execution_count": 56,
   "metadata": {},
   "outputs": [
    {
     "data": {
      "text/plain": [
       "'GeForce GTX 1070 with Max-Q Design'"
      ]
     },
     "execution_count": 56,
     "metadata": {},
     "output_type": "execute_result"
    }
   ],
   "source": [
    "th.cuda.get_device_name(th_dev)"
   ]
  },
  {
   "cell_type": "code",
   "execution_count": 58,
   "metadata": {},
   "outputs": [
    {
     "data": {
      "text/plain": [
       "0"
      ]
     },
     "execution_count": 58,
     "metadata": {},
     "output_type": "execute_result"
    }
   ],
   "source": [
    "th.cuda.memory_allocated(th_dev)"
   ]
  },
  {
   "cell_type": "code",
   "execution_count": 61,
   "metadata": {},
   "outputs": [
    {
     "data": {
      "text/plain": [
       "_CudaDeviceProperties(name='GeForce GTX 1070 with Max-Q Design', major=6, minor=1, total_memory=8192MB, multi_processor_count=16)"
      ]
     },
     "execution_count": 61,
     "metadata": {},
     "output_type": "execute_result"
    }
   ],
   "source": [
    "th.cuda.get_device_properties(th_dev)"
   ]
  },
  {
   "cell_type": "code",
   "execution_count": 65,
   "metadata": {},
   "outputs": [
    {
     "data": {
      "text/plain": [
       "tensor([[ 1.4724, -0.2069,  1.8912,  0.0134, -0.8571,  1.0000],\n",
       "        [-0.1530, -2.2699, -0.0778, -1.0210, -0.6725,  1.0000],\n",
       "        [-0.7215, -0.7695,  1.4208, -0.0619, -1.4882,  1.0000],\n",
       "        [-0.3645, -1.3821, -0.1079, -1.5940,  1.2416,  1.0000],\n",
       "        [-2.0932,  0.1644, -0.7987, -0.0168, -0.3942,  1.0000]],\n",
       "       dtype=torch.float64)"
      ]
     },
     "execution_count": 65,
     "metadata": {},
     "output_type": "execute_result"
    }
   ],
   "source": [
    "th_X_bias = th.tensor(X_bias)\n",
    "th_y = th.tensor(y)\n",
    "th_X_bias[:5]"
   ]
  },
  {
   "cell_type": "code",
   "execution_count": 66,
   "metadata": {},
   "outputs": [
    {
     "data": {
      "text/plain": [
       "tensor([[ 1.4724, -0.2069,  1.8912,  0.0134, -0.8571,  1.0000],\n",
       "        [-0.1530, -2.2699, -0.0778, -1.0210, -0.6725,  1.0000],\n",
       "        [-0.7215, -0.7695,  1.4208, -0.0619, -1.4882,  1.0000],\n",
       "        [-0.3645, -1.3821, -0.1079, -1.5940,  1.2416,  1.0000],\n",
       "        [-2.0932,  0.1644, -0.7987, -0.0168, -0.3942,  1.0000]],\n",
       "       device='cuda:0', dtype=torch.float64)"
      ]
     },
     "execution_count": 66,
     "metadata": {},
     "output_type": "execute_result"
    }
   ],
   "source": [
    "th_X_bias = th_X_bias.to(th_dev)\n",
    "th_y = th_y.to(th_dev)\n",
    "th_X_bias[:5]"
   ]
  },
  {
   "cell_type": "code",
   "execution_count": 70,
   "metadata": {},
   "outputs": [],
   "source": [
    "th_theta = th.matmul(\n",
    "    th.matmul(\n",
    "        th.inverse(\n",
    "            th.matmul(\n",
    "                th.transpose(th_X_bias, 0,1), \n",
    "                th_X_bias)\n",
    "        ),\n",
    "        th.transpose(th_X_bias, 0, 1)\n",
    "    ), \n",
    "    th_y)"
   ]
  },
  {
   "cell_type": "code",
   "execution_count": 71,
   "metadata": {},
   "outputs": [
    {
     "data": {
      "text/plain": [
       "tensor([[-0.1059],\n",
       "        [-0.0144],\n",
       "        [ 0.0357],\n",
       "        [ 0.0952],\n",
       "        [ 0.0562],\n",
       "        [-0.0421]], device='cuda:0', dtype=torch.float64)"
      ]
     },
     "execution_count": 71,
     "metadata": {},
     "output_type": "execute_result"
    }
   ],
   "source": [
    "th_theta"
   ]
  },
  {
   "cell_type": "code",
   "execution_count": 75,
   "metadata": {},
   "outputs": [],
   "source": [
    "th_cpu_theta = th_theta.cpu()"
   ]
  },
  {
   "cell_type": "code",
   "execution_count": 79,
   "metadata": {},
   "outputs": [
    {
     "data": {
      "text/plain": [
       "array([[-0.10586276],\n",
       "       [-0.01440132],\n",
       "       [ 0.03569265],\n",
       "       [ 0.09521986],\n",
       "       [ 0.0561542 ],\n",
       "       [-0.04208463]])"
      ]
     },
     "execution_count": 79,
     "metadata": {},
     "output_type": "execute_result"
    }
   ],
   "source": [
    "th_cpu_theta.numpy()"
   ]
  },
  {
   "cell_type": "code",
   "execution_count": 80,
   "metadata": {},
   "outputs": [
    {
     "data": {
      "text/plain": [
       "array([[-0.10586276],\n",
       "       [-0.01440132],\n",
       "       [ 0.03569265],\n",
       "       [ 0.09521986],\n",
       "       [ 0.0561542 ],\n",
       "       [-0.04208463]])"
      ]
     },
     "execution_count": 80,
     "metadata": {},
     "output_type": "execute_result"
    }
   ],
   "source": [
    "np_theta"
   ]
  },
  {
   "cell_type": "code",
   "execution_count": 81,
   "metadata": {},
   "outputs": [
    {
     "data": {
      "text/plain": [
       "-0.10586275799573999"
      ]
     },
     "execution_count": 81,
     "metadata": {},
     "output_type": "execute_result"
    }
   ],
   "source": [
    "np_theta[0,0]"
   ]
  },
  {
   "cell_type": "code",
   "execution_count": 82,
   "metadata": {},
   "outputs": [
    {
     "data": {
      "text/plain": [
       "-0.10586275799574006"
      ]
     },
     "execution_count": 82,
     "metadata": {},
     "output_type": "execute_result"
    }
   ],
   "source": [
    "th_cpu_theta.numpy()[0,0]"
   ]
  },
  {
   "cell_type": "code",
   "execution_count": null,
   "metadata": {},
   "outputs": [],
   "source": [
    "# TODO\n",
    "# load imobiliare.ro scrapped data\n",
    "# best way: aggregate multiple sources of scrapped data (multiple student sources)\n",
    "# keep first 80% for train and last 20% for test - NOT the correct way to do it\n",
    "# m = train.shape[0]\n",
    "# train_size = int(m * 0.8)\n",
    "# test_size = int(m *0.2)\n",
    "# train_data = all_data[:-train_size]\n",
    "# test_data = all_data[-train_size:]\n",
    "# \"train\" np, tf, th models\n",
    "# test them!"
   ]
  }
 ],
 "metadata": {
  "kernelspec": {
   "display_name": "Python 3",
   "language": "python",
   "name": "python3"
  },
  "language_info": {
   "codemirror_mode": {
    "name": "ipython",
    "version": 3
   },
   "file_extension": ".py",
   "mimetype": "text/x-python",
   "name": "python",
   "nbconvert_exporter": "python",
   "pygments_lexer": "ipython3",
   "version": "3.7.4"
  }
 },
 "nbformat": 4,
 "nbformat_minor": 4
}

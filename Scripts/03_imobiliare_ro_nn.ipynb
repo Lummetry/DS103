{
 "cells": [
  {
   "cell_type": "code",
   "execution_count": 1,
   "metadata": {},
   "outputs": [],
   "source": [
    "import pandas as pd\n",
    "import numpy as np\n",
    "from utils import set_pretty_prints\n",
    "\n",
    "set_pretty_prints()"
   ]
  },
  {
   "cell_type": "code",
   "execution_count": 2,
   "metadata": {},
   "outputs": [],
   "source": [
    "df = pd.read_csv('../data/imobiliare_bucuresti.csv')"
   ]
  },
  {
   "cell_type": "code",
   "execution_count": 3,
   "metadata": {},
   "outputs": [
    {
     "data": {
      "text/html": [
       "<div>\n",
       "<style scoped>\n",
       "    .dataframe tbody tr th:only-of-type {\n",
       "        vertical-align: middle;\n",
       "    }\n",
       "\n",
       "    .dataframe tbody tr th {\n",
       "        vertical-align: top;\n",
       "    }\n",
       "\n",
       "    .dataframe thead th {\n",
       "        text-align: right;\n",
       "    }\n",
       "</style>\n",
       "<table border=\"1\" class=\"dataframe\">\n",
       "  <thead>\n",
       "    <tr style=\"text-align: right;\">\n",
       "      <th></th>\n",
       "      <th>Unnamed: 0</th>\n",
       "      <th>nr cam</th>\n",
       "      <th>mp</th>\n",
       "      <th>parter</th>\n",
       "      <th>et1-2</th>\n",
       "      <th>et3+</th>\n",
       "      <th>etaj max</th>\n",
       "      <th>typ_decom</th>\n",
       "      <th>bloc nou</th>\n",
       "      <th>Price/Surface</th>\n",
       "      <th>Price</th>\n",
       "      <th>WebPage</th>\n",
       "    </tr>\n",
       "  </thead>\n",
       "  <tbody>\n",
       "    <tr>\n",
       "      <th>0</th>\n",
       "      <td>1</td>\n",
       "      <td>2</td>\n",
       "      <td>56.00</td>\n",
       "      <td>0</td>\n",
       "      <td>1</td>\n",
       "      <td>0</td>\n",
       "      <td>2</td>\n",
       "      <td>1</td>\n",
       "      <td>1</td>\n",
       "      <td>639.29</td>\n",
       "      <td>35800</td>\n",
       "      <td>https://www.imobiliare.ro/vanzare-apartamente/bucuresti/rahova/apartament-de-vanzare-2-camere-XAU700006?lista=2349706&amp;listing=1</td>\n",
       "    </tr>\n",
       "    <tr>\n",
       "      <th>1</th>\n",
       "      <td>2</td>\n",
       "      <td>2</td>\n",
       "      <td>57.00</td>\n",
       "      <td>0</td>\n",
       "      <td>1</td>\n",
       "      <td>0</td>\n",
       "      <td>2</td>\n",
       "      <td>0</td>\n",
       "      <td>1</td>\n",
       "      <td>628.07</td>\n",
       "      <td>35800</td>\n",
       "      <td>https://www.imobiliare.ro/vanzare-apartamente/bucuresti/rahova/apartament-de-vanzare-2-camere-XAG00001O?lista=2349706&amp;listing=1</td>\n",
       "    </tr>\n",
       "    <tr>\n",
       "      <th>2</th>\n",
       "      <td>3</td>\n",
       "      <td>2</td>\n",
       "      <td>67.00</td>\n",
       "      <td>0</td>\n",
       "      <td>1</td>\n",
       "      <td>0</td>\n",
       "      <td>2</td>\n",
       "      <td>1</td>\n",
       "      <td>1</td>\n",
       "      <td>591.04</td>\n",
       "      <td>39600</td>\n",
       "      <td>https://www.imobiliare.ro/vanzare-apartamente/bucuresti/rahova/apartament-de-vanzare-2-camere-XAG00001K?lista=2349706&amp;listing=1</td>\n",
       "    </tr>\n",
       "    <tr>\n",
       "      <th>3</th>\n",
       "      <td>4</td>\n",
       "      <td>1</td>\n",
       "      <td>48.00</td>\n",
       "      <td>0</td>\n",
       "      <td>1</td>\n",
       "      <td>0</td>\n",
       "      <td>2</td>\n",
       "      <td>1</td>\n",
       "      <td>1</td>\n",
       "      <td>620.83</td>\n",
       "      <td>29800</td>\n",
       "      <td>https://www.imobiliare.ro/vanzare-garsoniere/bucuresti/rahova/garsoniera-de-vanzare-XAG00001J?lista=2349706&amp;listing=1</td>\n",
       "    </tr>\n",
       "    <tr>\n",
       "      <th>4</th>\n",
       "      <td>5</td>\n",
       "      <td>3</td>\n",
       "      <td>89.60</td>\n",
       "      <td>0</td>\n",
       "      <td>0</td>\n",
       "      <td>1</td>\n",
       "      <td>3</td>\n",
       "      <td>1</td>\n",
       "      <td>1</td>\n",
       "      <td>1260.04</td>\n",
       "      <td>112900</td>\n",
       "      <td>https://www.imobiliare.ro/vanzare-apartamente/bucuresti/p-ta-presei-libere/apartament-de-vanzare-3-camere-XB0V00003?lista=2349706&amp;listing=1</td>\n",
       "    </tr>\n",
       "    <tr>\n",
       "      <th>...</th>\n",
       "      <td>...</td>\n",
       "      <td>...</td>\n",
       "      <td>...</td>\n",
       "      <td>...</td>\n",
       "      <td>...</td>\n",
       "      <td>...</td>\n",
       "      <td>...</td>\n",
       "      <td>...</td>\n",
       "      <td>...</td>\n",
       "      <td>...</td>\n",
       "      <td>...</td>\n",
       "      <td>...</td>\n",
       "    </tr>\n",
       "    <tr>\n",
       "      <th>9892</th>\n",
       "      <td>9894</td>\n",
       "      <td>4</td>\n",
       "      <td>90.00</td>\n",
       "      <td>0</td>\n",
       "      <td>0</td>\n",
       "      <td>1</td>\n",
       "      <td>8</td>\n",
       "      <td>0</td>\n",
       "      <td>0</td>\n",
       "      <td>944.44</td>\n",
       "      <td>85000</td>\n",
       "      <td>https://www.imobiliare.ro/vanzare-apartamente/bucuresti/crangasi/apartament-de-vanzare-4-camere-X5LL10023?lista=2349706&amp;listing=1</td>\n",
       "    </tr>\n",
       "    <tr>\n",
       "      <th>9893</th>\n",
       "      <td>9895</td>\n",
       "      <td>3</td>\n",
       "      <td>85.00</td>\n",
       "      <td>0</td>\n",
       "      <td>0</td>\n",
       "      <td>1</td>\n",
       "      <td>8</td>\n",
       "      <td>1</td>\n",
       "      <td>0</td>\n",
       "      <td>1588.22</td>\n",
       "      <td>134999</td>\n",
       "      <td>https://www.imobiliare.ro/vanzare-apartamente/bucuresti/central/apartament-de-vanzare-3-camere-X9I6100JP?lista=2349706&amp;listing=1</td>\n",
       "    </tr>\n",
       "    <tr>\n",
       "      <th>9894</th>\n",
       "      <td>9896</td>\n",
       "      <td>2</td>\n",
       "      <td>48.00</td>\n",
       "      <td>0</td>\n",
       "      <td>0</td>\n",
       "      <td>1</td>\n",
       "      <td>4</td>\n",
       "      <td>0</td>\n",
       "      <td>0</td>\n",
       "      <td>1229.17</td>\n",
       "      <td>59000</td>\n",
       "      <td>https://www.imobiliare.ro/vanzare-apartamente/bucuresti/apusului/apartament-de-vanzare-2-camere-XBJG000HP?lista=2349706&amp;listing=1</td>\n",
       "    </tr>\n",
       "    <tr>\n",
       "      <th>9895</th>\n",
       "      <td>9897</td>\n",
       "      <td>4</td>\n",
       "      <td>83.81</td>\n",
       "      <td>0</td>\n",
       "      <td>0</td>\n",
       "      <td>1</td>\n",
       "      <td>3</td>\n",
       "      <td>1</td>\n",
       "      <td>1</td>\n",
       "      <td>1312.49</td>\n",
       "      <td>110000</td>\n",
       "      <td>https://www.imobiliare.ro/vanzare-apartamente/bucuresti/theodor-pallady/penthouse-de-vanzare-4-camere-XANO10193?lista=2349706&amp;listing=1</td>\n",
       "    </tr>\n",
       "    <tr>\n",
       "      <th>9896</th>\n",
       "      <td>9898</td>\n",
       "      <td>1</td>\n",
       "      <td>35.00</td>\n",
       "      <td>0</td>\n",
       "      <td>0</td>\n",
       "      <td>1</td>\n",
       "      <td>4</td>\n",
       "      <td>1</td>\n",
       "      <td>1</td>\n",
       "      <td>1757.14</td>\n",
       "      <td>61500</td>\n",
       "      <td>https://www.imobiliare.ro/vanzare-garsoniere/bucuresti/politehnica/garsoniera-de-vanzare-X17L10040?lista=2349706&amp;listing=1</td>\n",
       "    </tr>\n",
       "  </tbody>\n",
       "</table>\n",
       "<p>9897 rows × 12 columns</p>\n",
       "</div>"
      ],
      "text/plain": [
       "      Unnamed: 0  nr cam     mp  parter  et1-2  et3+  etaj max  typ_decom  bloc nou  Price/Surface   Price                                                                                                                                      WebPage\n",
       "0              1       2  56.00       0      1     0         2          1         1         639.29   35800              https://www.imobiliare.ro/vanzare-apartamente/bucuresti/rahova/apartament-de-vanzare-2-camere-XAU700006?lista=2349706&listing=1\n",
       "1              2       2  57.00       0      1     0         2          0         1         628.07   35800              https://www.imobiliare.ro/vanzare-apartamente/bucuresti/rahova/apartament-de-vanzare-2-camere-XAG00001O?lista=2349706&listing=1\n",
       "2              3       2  67.00       0      1     0         2          1         1         591.04   39600              https://www.imobiliare.ro/vanzare-apartamente/bucuresti/rahova/apartament-de-vanzare-2-camere-XAG00001K?lista=2349706&listing=1\n",
       "3              4       1  48.00       0      1     0         2          1         1         620.83   29800                        https://www.imobiliare.ro/vanzare-garsoniere/bucuresti/rahova/garsoniera-de-vanzare-XAG00001J?lista=2349706&listing=1\n",
       "4              5       3  89.60       0      0     1         3          1         1        1260.04  112900  https://www.imobiliare.ro/vanzare-apartamente/bucuresti/p-ta-presei-libere/apartament-de-vanzare-3-camere-XB0V00003?lista=2349706&listing=1\n",
       "...          ...     ...    ...     ...    ...   ...       ...        ...       ...            ...     ...                                                                                                                                          ...\n",
       "9892        9894       4  90.00       0      0     1         8          0         0         944.44   85000            https://www.imobiliare.ro/vanzare-apartamente/bucuresti/crangasi/apartament-de-vanzare-4-camere-X5LL10023?lista=2349706&listing=1\n",
       "9893        9895       3  85.00       0      0     1         8          1         0        1588.22  134999             https://www.imobiliare.ro/vanzare-apartamente/bucuresti/central/apartament-de-vanzare-3-camere-X9I6100JP?lista=2349706&listing=1\n",
       "9894        9896       2  48.00       0      0     1         4          0         0        1229.17   59000            https://www.imobiliare.ro/vanzare-apartamente/bucuresti/apusului/apartament-de-vanzare-2-camere-XBJG000HP?lista=2349706&listing=1\n",
       "9895        9897       4  83.81       0      0     1         3          1         1        1312.49  110000      https://www.imobiliare.ro/vanzare-apartamente/bucuresti/theodor-pallady/penthouse-de-vanzare-4-camere-XANO10193?lista=2349706&listing=1\n",
       "9896        9898       1  35.00       0      0     1         4          1         1        1757.14   61500                   https://www.imobiliare.ro/vanzare-garsoniere/bucuresti/politehnica/garsoniera-de-vanzare-X17L10040?lista=2349706&listing=1\n",
       "\n",
       "[9897 rows x 12 columns]"
      ]
     },
     "execution_count": 3,
     "metadata": {},
     "output_type": "execute_result"
    }
   ],
   "source": [
    "df"
   ]
  },
  {
   "cell_type": "code",
   "execution_count": 4,
   "metadata": {},
   "outputs": [
    {
     "data": {
      "text/html": [
       "<div>\n",
       "<style scoped>\n",
       "    .dataframe tbody tr th:only-of-type {\n",
       "        vertical-align: middle;\n",
       "    }\n",
       "\n",
       "    .dataframe tbody tr th {\n",
       "        vertical-align: top;\n",
       "    }\n",
       "\n",
       "    .dataframe thead th {\n",
       "        text-align: right;\n",
       "    }\n",
       "</style>\n",
       "<table border=\"1\" class=\"dataframe\">\n",
       "  <thead>\n",
       "    <tr style=\"text-align: right;\">\n",
       "      <th></th>\n",
       "      <th>nr cam</th>\n",
       "      <th>mp</th>\n",
       "      <th>parter</th>\n",
       "      <th>et1-2</th>\n",
       "      <th>et3+</th>\n",
       "      <th>etaj max</th>\n",
       "      <th>typ_decom</th>\n",
       "      <th>bloc nou</th>\n",
       "      <th>Price/Surface</th>\n",
       "      <th>Price</th>\n",
       "    </tr>\n",
       "  </thead>\n",
       "  <tbody>\n",
       "    <tr>\n",
       "      <th>0</th>\n",
       "      <td>2</td>\n",
       "      <td>56.00</td>\n",
       "      <td>0</td>\n",
       "      <td>1</td>\n",
       "      <td>0</td>\n",
       "      <td>2</td>\n",
       "      <td>1</td>\n",
       "      <td>1</td>\n",
       "      <td>639.29</td>\n",
       "      <td>35800</td>\n",
       "    </tr>\n",
       "    <tr>\n",
       "      <th>1</th>\n",
       "      <td>2</td>\n",
       "      <td>57.00</td>\n",
       "      <td>0</td>\n",
       "      <td>1</td>\n",
       "      <td>0</td>\n",
       "      <td>2</td>\n",
       "      <td>0</td>\n",
       "      <td>1</td>\n",
       "      <td>628.07</td>\n",
       "      <td>35800</td>\n",
       "    </tr>\n",
       "    <tr>\n",
       "      <th>2</th>\n",
       "      <td>2</td>\n",
       "      <td>67.00</td>\n",
       "      <td>0</td>\n",
       "      <td>1</td>\n",
       "      <td>0</td>\n",
       "      <td>2</td>\n",
       "      <td>1</td>\n",
       "      <td>1</td>\n",
       "      <td>591.04</td>\n",
       "      <td>39600</td>\n",
       "    </tr>\n",
       "    <tr>\n",
       "      <th>3</th>\n",
       "      <td>1</td>\n",
       "      <td>48.00</td>\n",
       "      <td>0</td>\n",
       "      <td>1</td>\n",
       "      <td>0</td>\n",
       "      <td>2</td>\n",
       "      <td>1</td>\n",
       "      <td>1</td>\n",
       "      <td>620.83</td>\n",
       "      <td>29800</td>\n",
       "    </tr>\n",
       "    <tr>\n",
       "      <th>4</th>\n",
       "      <td>3</td>\n",
       "      <td>89.60</td>\n",
       "      <td>0</td>\n",
       "      <td>0</td>\n",
       "      <td>1</td>\n",
       "      <td>3</td>\n",
       "      <td>1</td>\n",
       "      <td>1</td>\n",
       "      <td>1260.04</td>\n",
       "      <td>112900</td>\n",
       "    </tr>\n",
       "    <tr>\n",
       "      <th>...</th>\n",
       "      <td>...</td>\n",
       "      <td>...</td>\n",
       "      <td>...</td>\n",
       "      <td>...</td>\n",
       "      <td>...</td>\n",
       "      <td>...</td>\n",
       "      <td>...</td>\n",
       "      <td>...</td>\n",
       "      <td>...</td>\n",
       "      <td>...</td>\n",
       "    </tr>\n",
       "    <tr>\n",
       "      <th>9892</th>\n",
       "      <td>4</td>\n",
       "      <td>90.00</td>\n",
       "      <td>0</td>\n",
       "      <td>0</td>\n",
       "      <td>1</td>\n",
       "      <td>8</td>\n",
       "      <td>0</td>\n",
       "      <td>0</td>\n",
       "      <td>944.44</td>\n",
       "      <td>85000</td>\n",
       "    </tr>\n",
       "    <tr>\n",
       "      <th>9893</th>\n",
       "      <td>3</td>\n",
       "      <td>85.00</td>\n",
       "      <td>0</td>\n",
       "      <td>0</td>\n",
       "      <td>1</td>\n",
       "      <td>8</td>\n",
       "      <td>1</td>\n",
       "      <td>0</td>\n",
       "      <td>1588.22</td>\n",
       "      <td>134999</td>\n",
       "    </tr>\n",
       "    <tr>\n",
       "      <th>9894</th>\n",
       "      <td>2</td>\n",
       "      <td>48.00</td>\n",
       "      <td>0</td>\n",
       "      <td>0</td>\n",
       "      <td>1</td>\n",
       "      <td>4</td>\n",
       "      <td>0</td>\n",
       "      <td>0</td>\n",
       "      <td>1229.17</td>\n",
       "      <td>59000</td>\n",
       "    </tr>\n",
       "    <tr>\n",
       "      <th>9895</th>\n",
       "      <td>4</td>\n",
       "      <td>83.81</td>\n",
       "      <td>0</td>\n",
       "      <td>0</td>\n",
       "      <td>1</td>\n",
       "      <td>3</td>\n",
       "      <td>1</td>\n",
       "      <td>1</td>\n",
       "      <td>1312.49</td>\n",
       "      <td>110000</td>\n",
       "    </tr>\n",
       "    <tr>\n",
       "      <th>9896</th>\n",
       "      <td>1</td>\n",
       "      <td>35.00</td>\n",
       "      <td>0</td>\n",
       "      <td>0</td>\n",
       "      <td>1</td>\n",
       "      <td>4</td>\n",
       "      <td>1</td>\n",
       "      <td>1</td>\n",
       "      <td>1757.14</td>\n",
       "      <td>61500</td>\n",
       "    </tr>\n",
       "  </tbody>\n",
       "</table>\n",
       "<p>9897 rows × 10 columns</p>\n",
       "</div>"
      ],
      "text/plain": [
       "      nr cam     mp  parter  et1-2  et3+  etaj max  typ_decom  bloc nou  Price/Surface   Price\n",
       "0          2  56.00       0      1     0         2          1         1         639.29   35800\n",
       "1          2  57.00       0      1     0         2          0         1         628.07   35800\n",
       "2          2  67.00       0      1     0         2          1         1         591.04   39600\n",
       "3          1  48.00       0      1     0         2          1         1         620.83   29800\n",
       "4          3  89.60       0      0     1         3          1         1        1260.04  112900\n",
       "...      ...    ...     ...    ...   ...       ...        ...       ...            ...     ...\n",
       "9892       4  90.00       0      0     1         8          0         0         944.44   85000\n",
       "9893       3  85.00       0      0     1         8          1         0        1588.22  134999\n",
       "9894       2  48.00       0      0     1         4          0         0        1229.17   59000\n",
       "9895       4  83.81       0      0     1         3          1         1        1312.49  110000\n",
       "9896       1  35.00       0      0     1         4          1         1        1757.14   61500\n",
       "\n",
       "[9897 rows x 10 columns]"
      ]
     },
     "execution_count": 4,
     "metadata": {},
     "output_type": "execute_result"
    }
   ],
   "source": [
    "df = df.iloc[:,1:-1]\n",
    "df"
   ]
  },
  {
   "cell_type": "code",
   "execution_count": 5,
   "metadata": {},
   "outputs": [],
   "source": [
    "TARGET_COLUMN = 'Price'"
   ]
  },
  {
   "cell_type": "code",
   "execution_count": 72,
   "metadata": {},
   "outputs": [
    {
     "data": {
      "text/plain": [
       "array([[  2.  ,  56.  ,   0.  ,   1.  ,   0.  ,   2.  ,   1.  ,   1.  ],\n",
       "       [  2.  ,  57.  ,   0.  ,   1.  ,   0.  ,   2.  ,   0.  ,   1.  ],\n",
       "       [  2.  ,  67.  ,   0.  ,   1.  ,   0.  ,   2.  ,   1.  ,   1.  ],\n",
       "       [  1.  ,  48.  ,   0.  ,   1.  ,   0.  ,   2.  ,   1.  ,   1.  ],\n",
       "       [  3.  ,  89.6 ,   0.  ,   0.  ,   1.  ,   3.  ,   1.  ,   1.  ],\n",
       "       [  2.  ,  65.  ,   0.  ,   1.  ,   0.  ,   2.  ,   1.  ,   1.  ],\n",
       "       [  2.  ,  46.  ,   0.  ,   0.  ,   1.  ,   4.  ,   1.  ,   1.  ],\n",
       "       [  6.  , 334.  ,   0.  ,   0.  ,   1.  ,  10.  ,   1.  ,   1.  ],\n",
       "       [  3.  , 104.26,   0.  ,   0.  ,   1.  ,  11.  ,   1.  ,   1.  ],\n",
       "       [  2.  ,  65.  ,   0.  ,   1.  ,   0.  ,   1.  ,   0.  ,   1.  ],\n",
       "       [  2.  ,  46.  ,   0.  ,   0.  ,   1.  ,   3.  ,   1.  ,   1.  ],\n",
       "       [  1.  ,  43.02,   1.  ,   0.  ,   0.  ,   0.  ,   1.  ,   1.  ],\n",
       "       [  3.  ,  80.23,   0.  ,   0.  ,   1.  ,   3.  ,   1.  ,   1.  ],\n",
       "       [  1.  ,  30.  ,   1.  ,   0.  ,   0.  ,   0.  ,   1.  ,   1.  ],\n",
       "       [  2.  ,  66.2 ,   0.  ,   1.  ,   0.  ,   2.  ,   1.  ,   1.  ],\n",
       "       [  4.  ,  90.39,   0.  ,   0.  ,   1.  ,   5.  ,   0.  ,   1.  ],\n",
       "       [  3.  ,  91.2 ,   0.  ,   0.  ,   1.  ,   3.  ,   0.  ,   1.  ],\n",
       "       [  2.  ,  56.  ,   0.  ,   1.  ,   0.  ,   2.  ,   1.  ,   1.  ],\n",
       "       [  2.  ,  70.24,   0.  ,   0.  ,   1.  ,   8.  ,   1.  ,   1.  ],\n",
       "       [  2.  ,  53.  ,   0.  ,   0.  ,   1.  ,   3.  ,   0.  ,   1.  ]])"
      ]
     },
     "execution_count": 72,
     "metadata": {},
     "output_type": "execute_result"
    }
   ],
   "source": [
    "X_raw = df.values[:,:-2]\n",
    "y = df[TARGET_COLUMN].values.reshape(-1,1)\n",
    "X_raw[:20]"
   ]
  },
  {
   "cell_type": "code",
   "execution_count": 73,
   "metadata": {},
   "outputs": [
    {
     "data": {
      "text/plain": [
       "(9897, 8)"
      ]
     },
     "execution_count": 73,
     "metadata": {},
     "output_type": "execute_result"
    }
   ],
   "source": [
    "X_min = X_raw.min(0)\n",
    "X_max = X_raw.max(0)\n",
    "X_range = X_max - X_min\n",
    "X_mean = X_raw.mean(0)\n",
    "X_std = X_raw.std(0)\n",
    "X_raw.shape"
   ]
  },
  {
   "cell_type": "code",
   "execution_count": 74,
   "metadata": {},
   "outputs": [
    {
     "data": {
      "text/plain": [
       "array([[-0.53, -0.44, -0.38,  1.33, -1.03, -0.47,  0.63,  0.83],\n",
       "       [-0.53, -0.42, -0.38,  1.33, -1.03, -0.47, -1.59,  0.83],\n",
       "       [-0.53, -0.17, -0.38,  1.33, -1.03, -0.47,  0.63,  0.83],\n",
       "       [-1.58, -0.64, -0.38,  1.33, -1.03, -0.47,  0.63,  0.83],\n",
       "       [ 0.52,  0.4 , -0.38, -0.75,  0.98, -0.12,  0.63,  0.83],\n",
       "       [-0.53, -0.22, -0.38,  1.33, -1.03, -0.47,  0.63,  0.83],\n",
       "       [-0.53, -0.69, -0.38, -0.75,  0.98,  0.24,  0.63,  0.83],\n",
       "       [ 3.68,  6.48, -0.38, -0.75,  0.98,  2.36,  0.63,  0.83],\n",
       "       [ 0.52,  0.76, -0.38, -0.75,  0.98,  2.72,  0.63,  0.83],\n",
       "       [-0.53, -0.22, -0.38,  1.33, -1.03, -0.83, -1.59,  0.83],\n",
       "       [-0.53, -0.69, -0.38, -0.75,  0.98, -0.12,  0.63,  0.83],\n",
       "       [-1.58, -0.76,  2.64, -0.75, -1.03, -1.18,  0.63,  0.83],\n",
       "       [ 0.52,  0.16, -0.38, -0.75,  0.98, -0.12,  0.63,  0.83],\n",
       "       [-1.58, -1.09,  2.64, -0.75, -1.03, -1.18,  0.63,  0.83],\n",
       "       [-0.53, -0.19, -0.38,  1.33, -1.03, -0.47,  0.63,  0.83],\n",
       "       [ 1.57,  0.42, -0.38, -0.75,  0.98,  0.59, -1.59,  0.83],\n",
       "       [ 0.52,  0.44, -0.38, -0.75,  0.98, -0.12, -1.59,  0.83],\n",
       "       [-0.53, -0.44, -0.38,  1.33, -1.03, -0.47,  0.63,  0.83],\n",
       "       [-0.53, -0.09, -0.38, -0.75,  0.98,  1.65,  0.63,  0.83],\n",
       "       [-0.53, -0.52, -0.38, -0.75,  0.98, -0.12, -1.59,  0.83]])"
      ]
     },
     "execution_count": 74,
     "metadata": {},
     "output_type": "execute_result"
    }
   ],
   "source": [
    "X_denom = X_mean\n",
    "X_nom = X_std\n",
    "X = (X_raw - X_denom) / X_nom\n",
    "X[:20]"
   ]
  },
  {
   "cell_type": "code",
   "execution_count": 75,
   "metadata": {},
   "outputs": [],
   "source": [
    "prc_test = 0.25"
   ]
  },
  {
   "cell_type": "code",
   "execution_count": 76,
   "metadata": {},
   "outputs": [
    {
     "name": "stdout",
     "output_type": "stream",
     "text": [
      "Train/Dev/Test: 7422/1237/1238\n"
     ]
    }
   ],
   "source": [
    "from sklearn.model_selection import train_test_split\n",
    "x_train,x_t, y_train, y_t = train_test_split(X, y, test_size=prc_test, random_state=1234)\n",
    "x_dev,x_test, y_dev,y_test = train_test_split(x_t, y_t, test_size=0.5, random_state=1234)\n",
    "print(\"Train/Dev/Test: {}/{}/{}\".format(x_train.shape[0], x_dev.shape[0], x_test.shape[0]))"
   ]
  },
  {
   "cell_type": "markdown",
   "metadata": {},
   "source": [
    "## Now the PyTorch stuff\n",
    "\n",
    "### for data: \n",
    "    tensorize -> maybe load to GPU -> create dataset -> create data loader for batches\n",
    "### for model: \n",
    "    define model as nn.Model\n",
    "### for actual training: \n",
    "    run batch gradient descent"
   ]
  },
  {
   "cell_type": "code",
   "execution_count": 77,
   "metadata": {},
   "outputs": [
    {
     "data": {
      "text/plain": [
       "'1.4.0'"
      ]
     },
     "execution_count": 77,
     "metadata": {},
     "output_type": "execute_result"
    }
   ],
   "source": [
    "import torch as th\n",
    "th.__version__"
   ]
  },
  {
   "cell_type": "code",
   "execution_count": 78,
   "metadata": {},
   "outputs": [
    {
     "name": "stdout",
     "output_type": "stream",
     "text": [
      "0.9M\n"
     ]
    }
   ],
   "source": [
    "target_device = th.device('cuda')\n",
    "print(\"{:,.1f}M\".format(th.cuda.memory_allocated() / 1024**2))"
   ]
  },
  {
   "cell_type": "code",
   "execution_count": 79,
   "metadata": {},
   "outputs": [],
   "source": [
    "th_x_train = th.tensor(x_train, dtype=th.float32)\n",
    "th_x_dev = th.tensor(x_dev, dtype=th.float32)\n",
    "th_x_test = th.tensor(x_test, dtype=th.float32)\n",
    "th_y_train = th.tensor(y_train, dtype=th.float32)\n",
    "th_y_dev = th.tensor(y_dev, dtype=th.float32)\n",
    "th_y_test = th.tensor(y_test, dtype=th.float32)"
   ]
  },
  {
   "cell_type": "code",
   "execution_count": 80,
   "metadata": {},
   "outputs": [
    {
     "data": {
      "text/plain": [
       "tensor([[-0.5321, -0.5901, -0.3792,  ...,  0.9450,  0.6273,  0.8281],\n",
       "        [ 0.5201,  0.5799, -0.3792,  ..., -0.4742,  0.6273,  0.8281],\n",
       "        [-0.5321, -0.0922, -0.3792,  ..., -0.1194,  0.6273,  0.8281],\n",
       "        ...,\n",
       "        [ 0.5201,  0.7790, -0.3792,  ..., -0.1194,  0.6273, -1.2076],\n",
       "        [ 0.5201, -0.0855, -0.3792,  ...,  1.2998,  0.6273,  0.8281],\n",
       "        [ 1.5722,  1.9241, -0.3792,  ...,  0.9450,  0.6273,  0.8281]])"
      ]
     },
     "execution_count": 80,
     "metadata": {},
     "output_type": "execute_result"
    }
   ],
   "source": [
    "th_x_train"
   ]
  },
  {
   "cell_type": "code",
   "execution_count": 81,
   "metadata": {},
   "outputs": [
    {
     "data": {
      "text/plain": [
       "tensor([[179000.],\n",
       "        [166636.],\n",
       "        [ 64500.],\n",
       "        ...,\n",
       "        [195000.],\n",
       "        [134900.],\n",
       "        [485000.]])"
      ]
     },
     "execution_count": 81,
     "metadata": {},
     "output_type": "execute_result"
    }
   ],
   "source": [
    "th_y_train"
   ]
  },
  {
   "cell_type": "code",
   "execution_count": 82,
   "metadata": {},
   "outputs": [
    {
     "data": {
      "text/plain": [
       "tensor([[-0.5321, -0.5901, -0.3792,  ...,  0.9450,  0.6273,  0.8281],\n",
       "        [ 0.5201,  0.5799, -0.3792,  ..., -0.4742,  0.6273,  0.8281],\n",
       "        [-0.5321, -0.0922, -0.3792,  ..., -0.1194,  0.6273,  0.8281],\n",
       "        ...,\n",
       "        [ 0.5201,  0.7790, -0.3792,  ..., -0.1194,  0.6273, -1.2076],\n",
       "        [ 0.5201, -0.0855, -0.3792,  ...,  1.2998,  0.6273,  0.8281],\n",
       "        [ 1.5722,  1.9241, -0.3792,  ...,  0.9450,  0.6273,  0.8281]],\n",
       "       device='cuda:0')"
      ]
     },
     "execution_count": 82,
     "metadata": {},
     "output_type": "execute_result"
    }
   ],
   "source": [
    "th_x_train = th_x_train.to(target_device)\n",
    "th_x_dev = th_x_dev.to(target_device)\n",
    "th_x_test = th_x_test.to(target_device)\n",
    "th_y_train = th_y_train.to(target_device)\n",
    "th_y_dev = th_y_dev.to(target_device)\n",
    "th_y_test = th_y_test.to(target_device)\n",
    "th_x_train"
   ]
  },
  {
   "cell_type": "code",
   "execution_count": 83,
   "metadata": {},
   "outputs": [
    {
     "name": "stdout",
     "output_type": "stream",
     "text": [
      "1.1M\n"
     ]
    }
   ],
   "source": [
    "print(\"{:,.1f}M\".format(th.cuda.memory_allocated() / 1024**2))"
   ]
  },
  {
   "cell_type": "code",
   "execution_count": 84,
   "metadata": {},
   "outputs": [],
   "source": [
    "th_ds = th.utils.data.TensorDataset(th_x_train, th_y_train)"
   ]
  },
  {
   "cell_type": "code",
   "execution_count": 85,
   "metadata": {},
   "outputs": [
    {
     "data": {
      "text/plain": [
       "<torch.utils.data.dataset.TensorDataset at 0x25d02532c08>"
      ]
     },
     "execution_count": 85,
     "metadata": {},
     "output_type": "execute_result"
    }
   ],
   "source": [
    "th_ds"
   ]
  },
  {
   "cell_type": "code",
   "execution_count": 86,
   "metadata": {},
   "outputs": [
    {
     "data": {
      "text/plain": [
       "231"
      ]
     },
     "execution_count": 86,
     "metadata": {},
     "output_type": "execute_result"
    }
   ],
   "source": [
    "BATCH_SIZE = 32\n",
    "N_BATCHES = x_train.shape[0] // BATCH_SIZE\n",
    "N_BATCHES"
   ]
  },
  {
   "cell_type": "code",
   "execution_count": 87,
   "metadata": {},
   "outputs": [],
   "source": [
    "th_loader = th.utils.data.DataLoader(th_ds, batch_size=BATCH_SIZE)"
   ]
  },
  {
   "cell_type": "code",
   "execution_count": 88,
   "metadata": {},
   "outputs": [
    {
     "name": "stdout",
     "output_type": "stream",
     "text": [
      "tensor([[-0.5321, -0.5901, -0.3792, -0.7530,  0.9753,  0.9450,  0.6273,  0.8281],\n",
      "        [ 0.5201,  0.5799, -0.3792,  1.3281, -1.0253, -0.4742,  0.6273,  0.8281],\n",
      "        [-0.5321, -0.0922, -0.3792, -0.7530,  0.9753, -0.1194,  0.6273,  0.8281],\n",
      "        [ 0.5201,  0.1069, -0.3792, -0.7530,  0.9753,  1.2998, -1.5940, -1.2076],\n",
      "        [ 0.5201,  0.1318, -0.3792,  1.3281, -1.0253, -0.4742,  0.6273,  0.8281],\n",
      "        [-0.5321, -0.2665, -0.3792, -0.7530,  0.9753, -0.1194,  0.6273,  0.8281],\n",
      "        [ 0.5201,  0.1318, -0.3792,  1.3281, -1.0253, -0.8289,  0.6273,  0.8281],\n",
      "        [ 0.5201, -0.2914, -0.3792, -0.7530,  0.9753, -0.1194, -1.5940, -1.2076],\n",
      "        [ 0.5201,  0.7292, -0.3792, -0.7530,  0.9753,  2.3641,  0.6273,  0.8281],\n",
      "        [ 0.5201,  0.4056, -0.3792,  1.3281, -1.0253, -0.8289,  0.6273, -1.2076],\n",
      "        [-1.5843, -1.0630, -0.3792,  1.3281, -1.0253, -0.4742,  0.6273,  0.8281],\n",
      "        [ 2.6244,  1.5258, -0.3792, -0.7530,  0.9753,  0.5902,  0.6273,  0.8281],\n",
      "        [-0.5321, -0.1669, -0.3792,  1.3281, -1.0253, -0.8289,  0.6273,  0.8281],\n",
      "        [ 1.5722,  0.5799, -0.3792,  1.3281, -1.0253, -0.8289,  0.6273, -1.2076],\n",
      "        [ 0.5201, -0.0424,  2.6374, -0.7530, -1.0253, -1.1837,  0.6273, -1.2076],\n",
      "        [-0.5321, -0.4830, -0.3792,  1.3281, -1.0253, -0.8289,  0.6273,  0.8281],\n",
      "        [ 0.5201, -0.0424, -0.3792, -0.7530,  0.9753,  2.0093, -1.5940, -1.2076],\n",
      "        [-0.5321, -0.3909, -0.3792,  1.3281, -1.0253, -0.4742,  0.6273,  0.8281],\n",
      "        [ 0.5201,  0.5799, -0.3792, -0.7530,  0.9753,  3.0737,  0.6273, -1.2076],\n",
      "        [-0.5321, -0.3411, -0.3792, -0.7530,  0.9753,  0.2354, -1.5940,  0.8281],\n",
      "        [-0.5321, -0.5403, -0.3792,  1.3281, -1.0253, -0.4742, -1.5940,  0.8281],\n",
      "        [-1.5843, -0.8141, -0.3792, -0.7530,  0.9753, -0.1194,  0.6273, -1.2076],\n",
      "        [-0.5321, -0.6264, -0.3792, -0.7530,  0.9753,  1.6545, -1.5940,  0.8281],\n",
      "        [-0.5321, -0.9884, -0.3792,  1.3281, -1.0253, -0.4742,  0.6273,  0.8281],\n",
      "        [ 0.5201,  0.0571, -0.3792, -0.7530,  0.9753, -0.1194, -1.5940,  0.8281],\n",
      "        [-0.5321, -0.7394, -0.3792, -0.7530,  0.9753,  1.2998, -1.5940, -1.2076],\n",
      "        [-0.5321, -0.9137, -0.3792, -0.7530,  0.9753,  0.2354,  0.6273, -1.2076],\n",
      "        [ 1.5722,  0.2563, -0.3792,  1.3281, -1.0253, -0.4742, -1.5940, -1.2076],\n",
      "        [ 0.5201, -0.0424, -0.3792,  1.3281, -1.0253, -0.4742, -1.5940, -1.2076],\n",
      "        [-1.5843, -0.8888,  2.6374, -0.7530, -1.0253, -1.1837,  0.6273, -1.2076],\n",
      "        [-0.5321, -0.4407, -0.3792,  1.3281, -1.0253, -0.8289,  0.6273,  0.8281],\n",
      "        [ 0.5201, -0.0922, -0.3792, -0.7530,  0.9753,  2.0093,  0.6273, -1.2076]],\n",
      "       device='cuda:0') tensor([[179000.],\n",
      "        [166636.],\n",
      "        [ 64500.],\n",
      "        [ 67000.],\n",
      "        [168000.],\n",
      "        [ 76500.],\n",
      "        [112022.],\n",
      "        [ 68000.],\n",
      "        [328990.],\n",
      "        [124990.],\n",
      "        [ 44000.],\n",
      "        [400000.],\n",
      "        [ 39900.],\n",
      "        [247000.],\n",
      "        [125000.],\n",
      "        [ 90125.],\n",
      "        [ 62000.],\n",
      "        [ 52500.],\n",
      "        [180000.],\n",
      "        [115999.],\n",
      "        [ 55000.],\n",
      "        [ 58000.],\n",
      "        [115000.],\n",
      "        [ 48110.],\n",
      "        [255000.],\n",
      "        [ 68500.],\n",
      "        [ 42000.],\n",
      "        [129990.],\n",
      "        [128000.],\n",
      "        [ 62500.],\n",
      "        [137500.],\n",
      "        [ 80000.]], device='cuda:0')\n"
     ]
    }
   ],
   "source": [
    "for th_x_batch, th_y_batch in th_loader:\n",
    "    print(th_x_batch, th_y_batch)\n",
    "    break"
   ]
  },
  {
   "cell_type": "code",
   "execution_count": 89,
   "metadata": {},
   "outputs": [],
   "source": [
    "# now we just inherit torch.nn.Module and voila :)\n",
    "class ImobiliareNN(th.nn.Module):\n",
    "    def __init__(self,n_inputs=8, n_outputs1=64, n_outputs2=16):\n",
    "        super().__init__()\n",
    "        self.transform_1 = th.nn.Linear(n_inputs,n_outputs1)\n",
    "        self.non_lin_1 = th.nn.ReLU() # max(0, input)\n",
    "        self.transform_2 = th.nn.Linear(n_outputs1,n_outputs2)\n",
    "        self.non_lin_2 = th.nn.ReLU() # max(0, input)    \n",
    "        # self.drop = th.nn.Dropout(0.5)\n",
    "        self.readout = th.nn.Linear(n_outputs2, 1)\n",
    "    \n",
    "    def forward(self, th_input):\n",
    "        th_x = self.transform_1(th_input)\n",
    "        th_x = self.non_lin_1(th_x)\n",
    "        th_x = self.transform_2(th_x)\n",
    "        th_x = self.non_lin_2(th_x)\n",
    "        # th_x  = self.drop(th_x)\n",
    "        th_x = self.readout(th_x)\n",
    "        return th_x"
   ]
  },
  {
   "cell_type": "code",
   "execution_count": 194,
   "metadata": {},
   "outputs": [
    {
     "data": {
      "text/plain": [
       "ImobiliareNN(\n",
       "  (transform_1): Linear(in_features=8, out_features=64, bias=True)\n",
       "  (non_lin_1): ReLU()\n",
       "  (transform_2): Linear(in_features=64, out_features=16, bias=True)\n",
       "  (non_lin_2): ReLU()\n",
       "  (readout): Linear(in_features=16, out_features=1, bias=True)\n",
       ")"
      ]
     },
     "execution_count": 194,
     "metadata": {},
     "output_type": "execute_result"
    }
   ],
   "source": [
    "th.manual_seed(123)\n",
    "imob_nn = ImobiliareNN()\n",
    "imob_nn = imob_nn.to(target_device)\n",
    "imob_nn"
   ]
  },
  {
   "cell_type": "code",
   "execution_count": 195,
   "metadata": {},
   "outputs": [
    {
     "name": "stdout",
     "output_type": "stream",
     "text": [
      "Parameter containing:\n",
      "tensor([ 0.0651, -0.3496,  0.0408, -0.1167, -0.0268,  0.2031, -0.1217, -0.2678,\n",
      "         0.0214, -0.0985, -0.1649, -0.1080, -0.2005,  0.3103,  0.0243, -0.1876,\n",
      "         0.2254,  0.0547,  0.2030,  0.2726,  0.3494, -0.0916,  0.0105, -0.2049,\n",
      "         0.3226,  0.1125, -0.0585,  0.0886,  0.3508,  0.1440,  0.1717,  0.3264,\n",
      "         0.0151,  0.0017,  0.0877, -0.3268,  0.1236, -0.0027, -0.0169,  0.0203,\n",
      "         0.3132,  0.1015, -0.3203,  0.3275,  0.2156,  0.1784,  0.1459,  0.0345,\n",
      "        -0.1952,  0.2266, -0.2642, -0.2138,  0.0009, -0.2743,  0.3207,  0.3513,\n",
      "         0.1762,  0.2158, -0.3425,  0.3051,  0.0621, -0.2233, -0.2469,  0.0852],\n",
      "       device='cuda:0', requires_grad=True)\n"
     ]
    }
   ],
   "source": [
    "print(imob_nn.transform_1.bias)"
   ]
  },
  {
   "cell_type": "code",
   "execution_count": 196,
   "metadata": {},
   "outputs": [
    {
     "name": "stdout",
     "output_type": "stream",
     "text": [
      "None\n"
     ]
    }
   ],
   "source": [
    "print(imob_nn.transform_1.bias.grad)"
   ]
  },
  {
   "cell_type": "code",
   "execution_count": 197,
   "metadata": {},
   "outputs": [
    {
     "name": "stdout",
     "output_type": "stream",
     "text": [
      "Epoch 1 done. Calculating dev MAE...\n",
      "MAE: 137365.16\n",
      "Epoch 2 done. Calculating dev MAE...\n",
      "MAE: 46765.52\n",
      "Epoch 3 done. Calculating dev MAE...\n",
      "MAE: 43359.80\n",
      "Epoch 4 done. Calculating dev MAE...\n",
      "MAE: 46110.09\n",
      "Epoch 5 done. Calculating dev MAE...\n",
      "MAE: 47191.24\n",
      "Based on dev-set our best model is at epoch 3 with MAE: 43359.8\n",
      "MAE: 50458.98\n"
     ]
    },
    {
     "data": {
      "text/plain": [
       "array(50458.98, dtype=float32)"
      ]
     },
     "execution_count": 197,
     "metadata": {},
     "output_type": "execute_result"
    }
   ],
   "source": [
    "th_optim = th.optim.SGD(params=imob_nn.parameters(), lr=0.004) # the bigger the lr the faster the convergenge - but risky\n",
    "EPOCHS = 5\n",
    "def predict(th_x, th_y=None):\n",
    "    # next line is not required for our structure (no Dropout)\n",
    "    imob_nn.eval() # tell the network to use its modules in evaluation mode (Dropout, BN, etc)\n",
    "    with th.no_grad():\n",
    "        th_preds = imob_nn(th_x)\n",
    "        if th_y is not None:\n",
    "            th_res = th_preds - th_y\n",
    "            th_mae = th.mean(th.abs(th_res))\n",
    "            print(\"MAE: {:.2f}\".format(th_mae))\n",
    "            res = th_mae.cpu().numpy()\n",
    "        else:\n",
    "            res = th_preds.cpu().numpy()\n",
    "    # next line is not required for our structure (no Dropout)\n",
    "    imob_nn.train() # # tell the network to use its modules in train mode (Dropout, BN, etc)\n",
    "    return res\n",
    "    \n",
    "best_dev_mae = np.inf\n",
    "for epoch in range(EPOCHS):    \n",
    "    for th_x_batch, th_y_batch in th_loader:\n",
    "        th_y_pred = imob_nn(th_x_batch)\n",
    "        th_loss_batch = th.abs(th_y_batch - th_y_pred)\n",
    "        th_loss = th_loss_batch.mean()\n",
    "        th_loss.backward()\n",
    "        #print(imob_nn.transform_1.bias.grad)\n",
    "        #break\n",
    "        th_optim.step()\n",
    "        th_optim.zero_grad()\n",
    "    # done epoch\n",
    "    print(\"Epoch {} done. Calculating dev MAE...\".format(epoch + 1))\n",
    "    epoch_mae = predict(th_x_dev, th_y_dev)       \n",
    "    if epoch_mae < best_dev_mae:\n",
    "        best_epoch_based_on_dev = epoch +1\n",
    "        best_dev_mae = epoch_mae\n",
    "        # now you can save your model coefs\n",
    "\n",
    "# now you can load your best model coef\n",
    "print(\"Based on dev-set our best model is at epoch {} with MAE: {:.1f}\".format(best_epoch_based_on_dev, best_dev_mae))\n",
    "# however: NOW you have to \"test on test\"\n",
    "# so load your best model and predict\n",
    "predict(th_x_test, th_y_test)"
   ]
  },
  {
   "cell_type": "code",
   "execution_count": 198,
   "metadata": {},
   "outputs": [
    {
     "data": {
      "text/plain": [
       "torch.autograd.grad_mode.no_grad"
      ]
     },
     "execution_count": 198,
     "metadata": {},
     "output_type": "execute_result"
    }
   ],
   "source": [
    "th.no_grad"
   ]
  },
  {
   "cell_type": "code",
   "execution_count": 199,
   "metadata": {},
   "outputs": [
    {
     "data": {
      "text/plain": [
       "<function Tensor.cpu>"
      ]
     },
     "execution_count": 199,
     "metadata": {},
     "output_type": "execute_result"
    }
   ],
   "source": [
    "th_y_batch.cpu"
   ]
  },
  {
   "cell_type": "code",
   "execution_count": 125,
   "metadata": {},
   "outputs": [
    {
     "data": {
      "text/plain": [
       "<function torch.random.seed()>"
      ]
     },
     "execution_count": 125,
     "metadata": {},
     "output_type": "execute_result"
    }
   ],
   "source": [
    "th.random.seed"
   ]
  },
  {
   "cell_type": "code",
   "execution_count": null,
   "metadata": {},
   "outputs": [],
   "source": []
  }
 ],
 "metadata": {
  "kernelspec": {
   "display_name": "Python 3",
   "language": "python",
   "name": "python3"
  },
  "language_info": {
   "codemirror_mode": {
    "name": "ipython",
    "version": 3
   },
   "file_extension": ".py",
   "mimetype": "text/x-python",
   "name": "python",
   "nbconvert_exporter": "python",
   "pygments_lexer": "ipython3",
   "version": "3.7.4"
  }
 },
 "nbformat": 4,
 "nbformat_minor": 4
}

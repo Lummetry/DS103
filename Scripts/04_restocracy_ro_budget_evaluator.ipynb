{
 "cells": [
  {
   "cell_type": "code",
   "execution_count": 1,
   "metadata": {},
   "outputs": [],
   "source": [
    "import pickle\n",
    "import os\n",
    "import matplotlib.pyplot as plt\n",
    "import numpy as np\n",
    "import utils\n",
    "utils.set_pretty_prints()"
   ]
  },
  {
   "cell_type": "code",
   "execution_count": 2,
   "metadata": {},
   "outputs": [],
   "source": [
    "DATA_FOLDER = '../data'\n",
    "DATA_FILE = 'restocracy_all_data.pkl'"
   ]
  },
  {
   "cell_type": "code",
   "execution_count": 3,
   "metadata": {},
   "outputs": [],
   "source": [
    "with open(os.path.join(DATA_FOLDER, DATA_FILE), 'rb') as fh:\n",
    "    data = pickle.load(fh)"
   ]
  },
  {
   "cell_type": "code",
   "execution_count": 4,
   "metadata": {},
   "outputs": [
    {
     "data": {
      "text/plain": [
       "{'price': '202 lei',\n",
       " 'review': ' \\n Noul restaurant vedeta al Bucurestiului, o constructie geniala de marketing \\n Maize s-a deschis la inceputul lui noiembrie 2017 in mansarda unui (fel de) bloc cu doua etaje de pe eleganta strada Paris, aproape de Piata Dorobantilor. Poti sa o iei, la fel de bine, si ca pe o casa veche din Bucurestiul vechi, facuta fara imaginatie, sau cu economie la arhitect. Casa e renovata recent, iar zona e atat de frumoasa si de aristocratica, incat orice casa de acolo nu poate sa fie decat frumoasa si ea, indiferent cum ar arata si in ce stare ar fi. \\n Daca cei care au construit batrana casa nu au adus arhitecti cu imaginatie, cei care au transformat mansarda in restaurantul Maize au facut-o. Totul arata foarte bine acolo, au pus in valoare fiecare coltisor si detaliu, au reusit sa o umple si de lumina, si au facut loc si bucatariei chiar in mijloc, cu plite si gratare cu tot, dupa cum se vede si in poze, care ma scutesc de mai mult scris. Acolo, sus, au si o mica terasa pe acoperis, foarte frumoasa si ea, desigur, si nu stiu daca a lor va fi si curtea din spate: mare, cu case frumoase in jur, un alt arhitect bun ar putea face acolo o terasa de referinta a orasului. Muzica e data foarte tare, dar presupun ca am fost printre putinii deranjati de asta. \\n Dar sa vorbim despre mancare, pentru ca la Maize, spre diferenta de multe alte restaurante care au investit o avere in amenajare, mancarea e un lucru serios, chiar foarte, foarte serios. Au la Maize un chef, nu stiu cum il cheama, dar cred ca e cel despre care am mai scris pe cand a deschis un restaurant in apropiere de Marriott, ceva cu Funky Cuisine, si apoi l-am vazut, pentru scurt timp, la E3 by Entourage, in Piata Floreasca. Daca e acelasi, deci, atunci e foarte talentat, am scris si atunci asta, si acum nu fac decat sa confirm ca nu a stat pe loc, ci a mers mult mai departe. Si nu se va opri aici, fara indoiala… E unul dintre cei mai creativi si mai potriviti pentru o astfel de meserie din cati bucatari am vazut. \\n Conceptul gastronomic enuntat de Maize, si sustinut de tot ce am vazut in meniu, pe plita si in farfurie, este de „farm to table”, de „bucatarie creativa de ingrediente” romanesti, adica inventarea, recrearea, recompunerea si recombinarea retetelor si crearea altora noi, cam tot ce se poate face cu niste produse si ingrediente de buna calitate venite de la furnizori seriosi si de incredere – atat cat se poate. Putem sa-i spunem, la fel de bine, La Nouvelle Cuisine Roumaine/ Romaneasca, bucatari fina, adica, si atunci ei ar fi pionierii, deschizatorii de drum, fara indoiala. \\n Meniul e cu totul original, nu cred ca e un singur fel acolo cu ceva ce s-a mai facut in alte restaurante. Si in asta sta (o parte din) talentul chefului despre care am vorbit, sa recompuna la nesfarsit produsele si ingredientele si sa puna in farfurie combinatiile cele mai reusite. \\n Ca totul e la vedere la Maize, ca sase bucatari – toti tineri si frumosi, cu fete si tatuaje de pus in revista, nu in ultimul rand – muncesc la fiecare farfurie in parte de parca ar fi intr-un atelier de orfevarie, e iarasi o constructie a unui mare specialist in marketing – daca geniul in marketing nu o fi insusi cheful… \\n Tot ce am mancat la Maize a fost bun si foarte bun. Ne-au dat ca amuse-bouche o zacusca, pusa pe un fel de turta mica. Foarte buna la gust, insa cu zahar in exces, parca mancai Nutella pe paine. Orezul cu parmezan 9si cu galbenus de ou, presupun) foarte bun, de asemenea, tartarul de vita original, bun si el; nu cred ca avea untura sau seu de vita in el, insa asa parea. Un file de dorada cu sos a fost revelatia zilei, foarte buna dorada, excelent sosul, foarte bine facut spanacul. Apoi am primit o ceafa de porc de Mangalita, putin cam prea mult facut, cu o varza tinuta prea mult pe o plita prea incinsa, dupa cum se vede si din poza, cu cateva frunze de ceva prea sarate, iar cu restul legumelor foarte bune si bune facute. Si desrtul a fost foarte bun, si chiar si cafeaua, o surpriza placuta si un lucru prea mult neglijat de catre cei din resturante. \\n Interesant a fost si ca unul dintre bucatari – si nu chelnerul, si aici iarasi se vede intuitia geniala de marketing si cunoasterea detaliilor fine ale client service-ului – venea la masa si explica fiecare fel in parte. \\n Serviciul a fost bun, cu un chelner relaxat si placut la apropiere, dar care nu aflase inca, la o varsta nu tocmai de incepator, ca nu mananca doi oameni cu furculitele direct dintr-o aceeasi farfurie, chiar daca sunt ei prieteni buni, de-o viata. Dar nu s-a prins el nici dupa ce i-am explicat noi cum e cu igiena in farfurie… \\n Preturile sunt normale si rezonabile, daca e sa masuram ce vezi in farfurie si in jur la Maize fata de alte restaurante de pe strazile scumpe ale Bucurestiului. O masa in doi, cu o sticla de vin bun, te costa vreo 4-500 de lei. \\n Maize, baietii lor frumosi si foarte talentati din bucatarie, si, mai ales, farfuriile cu mancaruri ca acelea din pozele noastre, vor deveni in foarte scurt timp vedete de prim-plan ale gastronomiei si mondenitatii bucurestene, fara indoiala. ii voi urmari atent si voi mai scrie despre ei, cu atat mai mult cu cat sunt foarte aproape de mine… (GB – noiembrie 2017) \\n \\n\\t\\t\\t\\tVineri, 1 noiembrie 2018, Asociatia Producatorilor de Salam de Sibiu (APSS) a organizat o cina festiva pentru a sarbatori cei 130 de ani de excelenta si recunoastere europeana de care se bucura acest ...\\t\\t\\t \\n \\n\\t\\t\\t\\tDiferenta dintre marile restaurante si celelalte o vezi, cu adevarat, la legume si la sosuri. Nu la carne, la peste si la ce mai poti primi intr-o farfurie. Replica lui Paul Bocuse, cum ca \"un peste e...\\t\\t\\t \\n \\n\\t\\t\\t\\t Cand am dat Premiile Restocracy pe 2017 pentru restaurantul cu cea mai buna bucatarie romaneasca din Bucuresti, nu am luat in calcul diferentele dintre restaurantele traditionale romanesti, cele cu b...\\t\\t\\t \\n \\n\\t\\t\\t\\tMulte bucatarii nationale au cele doua ramuri bine delimitate: o bucatarie traditionala, populara, si o bucatarie fina. Incepand cu cea mai celebra, mai sofisticata si mai buna din lume, La Cuisine Fr...\\t\\t\\t \\n \\n\\t\\t\\t\\tAlex Petricean este Head Chef-ul restaurantului Maize, deschis anul acesta.\\r\\n\\r\\nRestocracy: De unde, sau de la cine, ati invatat cele mai importante lucruri pe care le stiti despre bucatarie si gatit?\\r...\\t\\t\\t \\n MAIZE si-a deschis, in sfarsit, terasa, dupa foarte multe dificultati tehnice pe care au trebuit sa le depaseasca, fiindca au tinut sa faca si bucatarie acolo, chiar daca una restransa. E in curtea din spate a cladirii din strada Paris 61 in care sunt. Au facut o bucatarie de vara, o bucatarie deschisa. Ce se serveste pe terasa se pregateste direct acolo, un meniu mai restrans decat cel din restaurant. Au vreo zece mese mici, din cate am numarat eu, cu banchete la perete, incap vreo 25 de oameni in toata terasa, cel mult. Pozele sunt de la evenimentul de inaugurare, din 2 septembrie. (GB – sept. 2018)'}"
      ]
     },
     "execution_count": 4,
     "metadata": {},
     "output_type": "execute_result"
    }
   ],
   "source": [
    "data[0]"
   ]
  },
  {
   "cell_type": "code",
   "execution_count": 5,
   "metadata": {},
   "outputs": [
    {
     "data": {
      "text/plain": [
       "200"
      ]
     },
     "execution_count": 5,
     "metadata": {},
     "output_type": "execute_result"
    }
   ],
   "source": [
    "len(data)"
   ]
  },
  {
   "cell_type": "code",
   "execution_count": 6,
   "metadata": {},
   "outputs": [],
   "source": [
    "prices = [x['price'] for x in data]\n",
    "reviews = [x['review'] for x in data]"
   ]
  },
  {
   "cell_type": "code",
   "execution_count": 7,
   "metadata": {},
   "outputs": [
    {
     "data": {
      "text/plain": [
       "['202 lei', '176 lei', '187 lei', '264 lei', '187 lei']"
      ]
     },
     "execution_count": 7,
     "metadata": {},
     "output_type": "execute_result"
    }
   ],
   "source": [
    "prices[:5]"
   ]
  },
  {
   "cell_type": "code",
   "execution_count": 8,
   "metadata": {},
   "outputs": [
    {
     "data": {
      "text/plain": [
       "' \\n Noul restaurant vedeta al Bucurestiului, o constructie geniala de marketing \\n Maize s-a deschis la inceputul lui noiembrie 2017 in mansarda unui (fel de) bloc cu doua etaje de pe eleganta strada Paris, aproape de Piata Dorobantilor. Poti sa o iei, la fel de bine, si ca pe o casa veche din Bucurestiul vechi, facuta fara imaginatie, sau cu economie la arhitect. Casa e renovata recent, iar zona e atat de frumoasa si de aristocratica, incat orice casa de acolo nu poate sa fie decat frumoasa si ea, indiferent cum ar arata si in ce stare ar fi. \\n Daca cei care au construit batrana casa nu au adus arhitecti cu imaginatie, cei care au transformat mansarda in restaurantul Maize au facut-o. Totul arata foarte bine acolo, au pus in valoare fiecare coltisor si detaliu, au reusit sa o umple si de lumina, si au facut loc si bucatariei chiar in mijloc, cu plite si gratare cu tot, dupa cum se vede si in poze, care ma scutesc de mai mult scris. Acolo, sus, au si o mica terasa pe acoperis, foarte frumoasa si ea, desigur, si nu stiu daca a lor va fi si curtea din spate: mare, cu case frumoase in jur, un alt arhitect bun ar putea face acolo o terasa de referinta a orasului. Muzica e data foarte tare, dar presupun ca am fost printre putinii deranjati de asta. \\n Dar sa vorbim despre mancare, pentru ca la Maize, spre diferenta de multe alte restaurante care au investit o avere in amenajare, mancarea e un lucru serios, chiar foarte, foarte serios. Au la Maize un chef, nu stiu cum il cheama, dar cred ca e cel despre care am mai scris pe cand a deschis un restaurant in apropiere de Marriott, ceva cu Funky Cuisine, si apoi l-am vazut, pentru scurt timp, la E3 by Entourage, in Piata Floreasca. Daca e acelasi, deci, atunci e foarte talentat, am scris si atunci asta, si acum nu fac decat sa confirm ca nu a stat pe loc, ci a mers mult mai departe. Si nu se va opri aici, fara indoiala… E unul dintre cei mai creativi si mai potriviti pentru o astfel de meserie din cati bucatari am vazut. \\n Conceptul gastronomic enuntat de Maize, si sustinut de tot ce am vazut in meniu, pe plita si in farfurie, este de „farm to table”, de „bucatarie creativa de ingrediente” romanesti, adica inventarea, recrearea, recompunerea si recombinarea retetelor si crearea altora noi, cam tot ce se poate face cu niste produse si ingrediente de buna calitate venite de la furnizori seriosi si de incredere – atat cat se poate. Putem sa-i spunem, la fel de bine, La Nouvelle Cuisine Roumaine/ Romaneasca, bucatari fina, adica, si atunci ei ar fi pionierii, deschizatorii de drum, fara indoiala. \\n Meniul e cu totul original, nu cred ca e un singur fel acolo cu ceva ce s-a mai facut in alte restaurante. Si in asta sta (o parte din) talentul chefului despre care am vorbit, sa recompuna la nesfarsit produsele si ingredientele si sa puna in farfurie combinatiile cele mai reusite. \\n Ca totul e la vedere la Maize, ca sase bucatari – toti tineri si frumosi, cu fete si tatuaje de pus in revista, nu in ultimul rand – muncesc la fiecare farfurie in parte de parca ar fi intr-un atelier de orfevarie, e iarasi o constructie a unui mare specialist in marketing – daca geniul in marketing nu o fi insusi cheful… \\n Tot ce am mancat la Maize a fost bun si foarte bun. Ne-au dat ca amuse-bouche o zacusca, pusa pe un fel de turta mica. Foarte buna la gust, insa cu zahar in exces, parca mancai Nutella pe paine. Orezul cu parmezan 9si cu galbenus de ou, presupun) foarte bun, de asemenea, tartarul de vita original, bun si el; nu cred ca avea untura sau seu de vita in el, insa asa parea. Un file de dorada cu sos a fost revelatia zilei, foarte buna dorada, excelent sosul, foarte bine facut spanacul. Apoi am primit o ceafa de porc de Mangalita, putin cam prea mult facut, cu o varza tinuta prea mult pe o plita prea incinsa, dupa cum se vede si din poza, cu cateva frunze de ceva prea sarate, iar cu restul legumelor foarte bune si bune facute. Si desrtul a fost foarte bun, si chiar si cafeaua, o surpriza placuta si un lucru prea mult neglijat de catre cei din resturante. \\n Interesant a fost si ca unul dintre bucatari – si nu chelnerul, si aici iarasi se vede intuitia geniala de marketing si cunoasterea detaliilor fine ale client service-ului – venea la masa si explica fiecare fel in parte. \\n Serviciul a fost bun, cu un chelner relaxat si placut la apropiere, dar care nu aflase inca, la o varsta nu tocmai de incepator, ca nu mananca doi oameni cu furculitele direct dintr-o aceeasi farfurie, chiar daca sunt ei prieteni buni, de-o viata. Dar nu s-a prins el nici dupa ce i-am explicat noi cum e cu igiena in farfurie… \\n Preturile sunt normale si rezonabile, daca e sa masuram ce vezi in farfurie si in jur la Maize fata de alte restaurante de pe strazile scumpe ale Bucurestiului. O masa in doi, cu o sticla de vin bun, te costa vreo 4-500 de lei. \\n Maize, baietii lor frumosi si foarte talentati din bucatarie, si, mai ales, farfuriile cu mancaruri ca acelea din pozele noastre, vor deveni in foarte scurt timp vedete de prim-plan ale gastronomiei si mondenitatii bucurestene, fara indoiala. ii voi urmari atent si voi mai scrie despre ei, cu atat mai mult cu cat sunt foarte aproape de mine… (GB – noiembrie 2017) \\n \\n\\t\\t\\t\\tVineri, 1 noiembrie 2018, Asociatia Producatorilor de Salam de Sibiu (APSS) a organizat o cina festiva pentru a sarbatori cei 130 de ani de excelenta si recunoastere europeana de care se bucura acest ...\\t\\t\\t \\n \\n\\t\\t\\t\\tDiferenta dintre marile restaurante si celelalte o vezi, cu adevarat, la legume si la sosuri. Nu la carne, la peste si la ce mai poti primi intr-o farfurie. Replica lui Paul Bocuse, cum ca \"un peste e...\\t\\t\\t \\n \\n\\t\\t\\t\\t Cand am dat Premiile Restocracy pe 2017 pentru restaurantul cu cea mai buna bucatarie romaneasca din Bucuresti, nu am luat in calcul diferentele dintre restaurantele traditionale romanesti, cele cu b...\\t\\t\\t \\n \\n\\t\\t\\t\\tMulte bucatarii nationale au cele doua ramuri bine delimitate: o bucatarie traditionala, populara, si o bucatarie fina. Incepand cu cea mai celebra, mai sofisticata si mai buna din lume, La Cuisine Fr...\\t\\t\\t \\n \\n\\t\\t\\t\\tAlex Petricean este Head Chef-ul restaurantului Maize, deschis anul acesta.\\r\\n\\r\\nRestocracy: De unde, sau de la cine, ati invatat cele mai importante lucruri pe care le stiti despre bucatarie si gatit?\\r...\\t\\t\\t \\n MAIZE si-a deschis, in sfarsit, terasa, dupa foarte multe dificultati tehnice pe care au trebuit sa le depaseasca, fiindca au tinut sa faca si bucatarie acolo, chiar daca una restransa. E in curtea din spate a cladirii din strada Paris 61 in care sunt. Au facut o bucatarie de vara, o bucatarie deschisa. Ce se serveste pe terasa se pregateste direct acolo, un meniu mai restrans decat cel din restaurant. Au vreo zece mese mici, din cate am numarat eu, cu banchete la perete, incap vreo 25 de oameni in toata terasa, cel mult. Pozele sunt de la evenimentul de inaugurare, din 2 septembrie. (GB – sept. 2018)'"
      ]
     },
     "execution_count": 8,
     "metadata": {},
     "output_type": "execute_result"
    }
   ],
   "source": [
    "reviews[0]"
   ]
  },
  {
   "cell_type": "code",
   "execution_count": 9,
   "metadata": {},
   "outputs": [
    {
     "data": {
      "text/plain": [
       "['Noul',\n",
       " 'restaurant',\n",
       " 'vedeta',\n",
       " 'al',\n",
       " 'Bucurestiului,',\n",
       " 'o',\n",
       " 'constructie',\n",
       " 'geniala',\n",
       " 'de',\n",
       " 'marketing']"
      ]
     },
     "execution_count": 9,
     "metadata": {},
     "output_type": "execute_result"
    }
   ],
   "source": [
    "reviews[0].split()[:10]"
   ]
  },
  {
   "cell_type": "code",
   "execution_count": 10,
   "metadata": {},
   "outputs": [],
   "source": [
    "def get_vocab(lst_docs):\n",
    "    dct_occ = {}\n",
    "    for doc in lst_docs:\n",
    "        words = doc.split()\n",
    "        for word in words:\n",
    "            if word in dct_occ:\n",
    "                dct_occ[word] += 1\n",
    "            else:\n",
    "                dct_occ[word] = 1\n",
    "    occs = [(w, a) for w,a in dct_occ.items()]\n",
    "    occs = sorted(occs, key=lambda x: x[1], reverse=True)\n",
    "    dct_w2i = {w[0]:i+1 for i,w in enumerate(occs)}\n",
    "    dct_w2i['UNK'] = 0\n",
    "    dct_i2w = {i:w for w,i in dct_w2i.items()}\n",
    "    return occs, dct_w2i, dct_i2w"
   ]
  },
  {
   "cell_type": "code",
   "execution_count": 11,
   "metadata": {},
   "outputs": [
    {
     "data": {
      "text/plain": [
       "[('de', 7642),\n",
       " ('si', 6195),\n",
       " ('in', 3904),\n",
       " ('la', 3650),\n",
       " ('cu', 3275),\n",
       " ('mai', 3019),\n",
       " ('ca', 2698),\n",
       " ('sa', 2655),\n",
       " ('din', 2230),\n",
       " ('care', 2147)]"
      ]
     },
     "execution_count": 11,
     "metadata": {},
     "output_type": "execute_result"
    }
   ],
   "source": [
    "oc, w2i, i2w = get_vocab(reviews)\n",
    "oc[:10]"
   ]
  },
  {
   "cell_type": "code",
   "execution_count": 12,
   "metadata": {},
   "outputs": [
    {
     "data": {
      "text/plain": [
       "2181"
      ]
     },
     "execution_count": 12,
     "metadata": {},
     "output_type": "execute_result"
    }
   ],
   "source": [
    "w2i['Noul']"
   ]
  },
  {
   "cell_type": "code",
   "execution_count": 13,
   "metadata": {},
   "outputs": [
    {
     "data": {
      "text/plain": [
       "'bune'"
      ]
     },
     "execution_count": 13,
     "metadata": {},
     "output_type": "execute_result"
    }
   ],
   "source": [
    "i2w[100]"
   ]
  },
  {
   "cell_type": "code",
   "execution_count": 14,
   "metadata": {},
   "outputs": [
    {
     "data": {
      "text/plain": [
       "0"
      ]
     },
     "execution_count": 14,
     "metadata": {},
     "output_type": "execute_result"
    }
   ],
   "source": [
    "w2i.get('bunicel',0)"
   ]
  },
  {
   "cell_type": "code",
   "execution_count": 15,
   "metadata": {},
   "outputs": [
    {
     "data": {
      "text/plain": [
       "22000"
      ]
     },
     "execution_count": 15,
     "metadata": {},
     "output_type": "execute_result"
    }
   ],
   "source": [
    "len(w2i)"
   ]
  },
  {
   "cell_type": "code",
   "execution_count": 16,
   "metadata": {},
   "outputs": [],
   "source": [
    "def doc_to_tokens(doc, dct_w2i, unk=0):\n",
    "    tokens = []\n",
    "    for word in doc.split():\n",
    "        tokens.append(dct_w2i.get(word, unk))\n",
    "    return tokens\n",
    "\n",
    "def tokens_to_doc(tokens, dct_i2w):\n",
    "    words = []\n",
    "    for token in tokens:\n",
    "        words.append(dct_i2w[token])\n",
    "    return \" \".join(words)"
   ]
  },
  {
   "cell_type": "code",
   "execution_count": 17,
   "metadata": {},
   "outputs": [
    {
     "data": {
      "text/plain": [
       "[0, 59, 22, 46, 9960, 0, 2, 97, 0]"
      ]
     },
     "execution_count": 17,
     "metadata": {},
     "output_type": "execute_result"
    }
   ],
   "source": [
    "t1 = doc_to_tokens(\n",
    "    doc=\"ana are foarte multe mere frumusele si putin viermanoase\", \n",
    "    dct_w2i=w2i\n",
    ")\n",
    "t1"
   ]
  },
  {
   "cell_type": "code",
   "execution_count": 18,
   "metadata": {},
   "outputs": [
    {
     "data": {
      "text/plain": [
       "'UNK are foarte multe mere UNK si putin UNK'"
      ]
     },
     "execution_count": 18,
     "metadata": {},
     "output_type": "execute_result"
    }
   ],
   "source": [
    "tokens_to_doc(t1, i2w)"
   ]
  },
  {
   "cell_type": "code",
   "execution_count": 19,
   "metadata": {},
   "outputs": [
    {
     "data": {
      "text/plain": [
       "(array([72., 83., 19.,  8.,  8.,  1.,  3.,  1.,  3.,  2.]),\n",
       " array([  255. ,  3259.2,  6263.4,  9267.6, 12271.8, 15276. , 18280.2,\n",
       "        21284.4, 24288.6, 27292.8, 30297. ]),\n",
       " <a list of 10 Patch objects>)"
      ]
     },
     "execution_count": 19,
     "metadata": {},
     "output_type": "execute_result"
    },
    {
     "data": {
      "image/png": "[encoded data removed]",
      "text/plain": [
       "<Figure size 432x288 with 1 Axes>"
      ]
     },
     "metadata": {},
     "output_type": "display_data"
    }
   ],
   "source": [
    "review_lens = [len(r) for r in reviews]\n",
    "plt.hist(review_lens)"
   ]
  },
  {
   "cell_type": "code",
   "execution_count": 20,
   "metadata": {},
   "outputs": [
    {
     "data": {
      "text/plain": [
       "'Ei bine, nu stiu sa raspund la intrebarea asta… E'"
      ]
     },
     "execution_count": 20,
     "metadata": {},
     "output_type": "execute_result"
    }
   ],
   "source": [
    "# but we need words\n",
    "all_data = [doc_to_tokens(doc, dct_w2i=w2i) for doc in reviews]\n",
    "tokens_to_doc(all_data[10][:10], i2w)"
   ]
  },
  {
   "cell_type": "code",
   "execution_count": 21,
   "metadata": {},
   "outputs": [
    {
     "data": {
      "text/plain": [
       "' \\n Ei bine, nu stiu sa raspund la intrebarea asta… \\n E greu de crezut ca sunt atat de multe restaura'"
      ]
     },
     "execution_count": 21,
     "metadata": {},
     "output_type": "execute_result"
    }
   ],
   "source": [
    "reviews[10][:100]"
   ]
  },
  {
   "cell_type": "code",
   "execution_count": 22,
   "metadata": {},
   "outputs": [
    {
     "data": {
      "text/plain": [
       "(array([12., 52., 68., 24., 10., 10.,  4.,  2.,  3.,  5.,  1.,  0.,  1.,\n",
       "         2.,  0.,  2.,  2.,  0.,  0.,  2.]),\n",
       " array([  34. ,  290.5,  547. ,  803.5, 1060. , 1316.5, 1573. , 1829.5,\n",
       "        2086. , 2342.5, 2599. , 2855.5, 3112. , 3368.5, 3625. , 3881.5,\n",
       "        4138. , 4394.5, 4651. , 4907.5, 5164. ]),\n",
       " <a list of 20 Patch objects>)"
      ]
     },
     "execution_count": 22,
     "metadata": {},
     "output_type": "execute_result"
    },
    {
     "data": {
      "image/png": "[encoded data removed]",
      "text/plain": [
       "<Figure size 432x288 with 1 Axes>"
      ]
     },
     "metadata": {},
     "output_type": "display_data"
    }
   ],
   "source": [
    "reviews_token_lens = [len(r) for r in all_data]\n",
    "plt.hist(reviews_token_lens, bins=20)"
   ]
  },
  {
   "cell_type": "code",
   "execution_count": 23,
   "metadata": {},
   "outputs": [
    {
     "data": {
      "text/plain": [
       "500"
      ]
     },
     "execution_count": 23,
     "metadata": {},
     "output_type": "execute_result"
    }
   ],
   "source": [
    "all_data_fix = [r[:500] for r in all_data]\n",
    "len(all_data_fix[123])"
   ]
  },
  {
   "cell_type": "code",
   "execution_count": 24,
   "metadata": {},
   "outputs": [
    {
     "data": {
      "text/plain": [
       "838"
      ]
     },
     "execution_count": 24,
     "metadata": {},
     "output_type": "execute_result"
    }
   ],
   "source": [
    "len(reviews[123].split())"
   ]
  },
  {
   "cell_type": "code",
   "execution_count": 25,
   "metadata": {},
   "outputs": [
    {
     "data": {
      "text/plain": [
       "(22000,)"
      ]
     },
     "execution_count": 25,
     "metadata": {},
     "output_type": "execute_result"
    }
   ],
   "source": [
    "def token_to_vect(tok, dct_w2i):\n",
    "    sizev = len(dct_w2i)\n",
    "    v = np.zeros(sizev)\n",
    "    v[tok] = 1\n",
    "    return v\n",
    "\n",
    "test = [token_to_vect(t, w2i) for t in doc_to_tokens('ana are foarte multe mere frumusele si putin viermanoase', w2i)]\n",
    "test[0].shape"
   ]
  },
  {
   "cell_type": "code",
   "execution_count": 26,
   "metadata": {},
   "outputs": [
    {
     "data": {
      "text/plain": [
       "22000"
      ]
     },
     "execution_count": 26,
     "metadata": {},
     "output_type": "execute_result"
    }
   ],
   "source": [
    "len(w2i)"
   ]
  },
  {
   "cell_type": "code",
   "execution_count": 27,
   "metadata": {},
   "outputs": [
    {
     "data": {
      "text/plain": [
       "array([1., 0., 0., 0., 0., 0., 0., 0., 0., 0., 0., 0., 0., 0., 0., 0., 0.,\n",
       "       0., 0., 0., 0., 0., 0., 0., 0., 0., 0., 0., 0., 0.])"
      ]
     },
     "execution_count": 27,
     "metadata": {},
     "output_type": "execute_result"
    }
   ],
   "source": [
    "test[0][:30]"
   ]
  },
  {
   "cell_type": "code",
   "execution_count": 28,
   "metadata": {},
   "outputs": [
    {
     "data": {
      "text/plain": [
       "array([0., 0., 1., 0., 0., 0., 0., 0., 0., 0.])"
      ]
     },
     "execution_count": 28,
     "metadata": {},
     "output_type": "execute_result"
    }
   ],
   "source": [
    "test[6][:10]"
   ]
  },
  {
   "cell_type": "code",
   "execution_count": 29,
   "metadata": {},
   "outputs": [],
   "source": [
    "def vects_to_doc(vects, dct_i2w):\n",
    "    tokens = []\n",
    "    for v in vects:\n",
    "        tokens.append(v.argmax())\n",
    "    return tokens_to_doc(tokens, dct_i2w)"
   ]
  },
  {
   "cell_type": "code",
   "execution_count": 30,
   "metadata": {},
   "outputs": [
    {
     "data": {
      "text/plain": [
       "'UNK are foarte multe mere UNK si putin UNK'"
      ]
     },
     "execution_count": 30,
     "metadata": {},
     "output_type": "execute_result"
    }
   ],
   "source": [
    "vects_to_doc(test, i2w)"
   ]
  },
  {
   "cell_type": "markdown",
   "metadata": {},
   "source": [
    "### Next steps:\n",
    " 1. Generate X as either 3D or 2D tensor (each observation as a series of word one-hot encodings or a vector of word occurences)\n",
    "   - 3D tensor means having `[number_of_documents, number_of_words, vocab_size]`\n",
    "   - *2D tensor* means having `[number_of_document, vocab_size]` - we just add together all the token-vectors of a review\n",
    " 2. Prepare y !\n",
    " 3. Split data\n",
    " 4. Re-run sanity checks\n",
    " 5. Create linear regression model\n",
    " 6. Test linear model\n",
    " 7. Next to representation learning"
   ]
  },
  {
   "cell_type": "code",
   "execution_count": 31,
   "metadata": {},
   "outputs": [
    {
     "name": "stdout",
     "output_type": "stream",
     "text": [
      "200\n",
      "34\n",
      "500\n"
     ]
    },
    {
     "data": {
      "text/plain": [
       "500"
      ]
     },
     "execution_count": 31,
     "metadata": {},
     "output_type": "execute_result"
    }
   ],
   "source": [
    "all_data_500 = [x[:500] for x in all_data]\n",
    "print(len(all_data_500))\n",
    "print(min([len(x) for x in all_data_500]))\n",
    "print(max([len(x) for x in all_data_500]))\n",
    "len(all_data_500[0])"
   ]
  },
  {
   "cell_type": "code",
   "execution_count": 32,
   "metadata": {},
   "outputs": [
    {
     "data": {
      "text/plain": [
       "(200, 22000)"
      ]
     },
     "execution_count": 32,
     "metadata": {},
     "output_type": "execute_result"
    }
   ],
   "source": [
    "def tokens_to_tensor(token_docs, dct_w2i):\n",
    "    lst_all_docs = []\n",
    "    for token_doc in token_docs:\n",
    "        np_vect = np.array([token_to_vect(t, dct_w2i) for t in token_doc])\n",
    "        np_doc_bow = np_vect.sum(axis=0)\n",
    "        lst_all_docs.append(np_doc_bow)\n",
    "    return np.array(lst_all_docs)\n",
    "    \n",
    "\n",
    "X = tokens_to_tensor(all_data_500, dct_w2i=w2i)\n",
    "X.shape"
   ]
  },
  {
   "cell_type": "code",
   "execution_count": 33,
   "metadata": {},
   "outputs": [
    {
     "data": {
      "text/plain": [
       "array([[ 0., 24., 25., 14.,  8., 10.,  6.,  6.,  6.,  3.,  6.,  6.,  5.,\n",
       "         8.,  5.,  8.,  9.,  3.,  6.,  4.,  4.,  9.,  5.,  0.,  1.,  1.,\n",
       "         2.,  1.,  2.,  2.,  0.,  1.,  1.,  1.,  0.,  0.,  1.,  1.,  0.,\n",
       "         0.],\n",
       "       [ 0., 17., 19.,  9., 10.,  6.,  5., 13.,  5.,  5.,  4.,  3.,  7.,\n",
       "         4.,  3.,  3., 14.,  1., 12.,  4.,  5.,  5.,  3.,  3.,  4.,  0.,\n",
       "         1.,  1.,  3.,  2.,  0.,  2.,  0.,  1.,  1.,  0.,  6.,  1.,  0.,\n",
       "         1.],\n",
       "       [ 0., 26.,  7., 14., 12.,  4.,  9.,  9.,  4.,  8.,  9.,  4.,  5.,\n",
       "         9.,  3.,  2.,  9.,  3.,  3.,  2.,  4.,  6.,  4.,  3.,  5.,  1.,\n",
       "         2.,  0.,  1.,  2.,  0.,  4.,  1.,  2.,  0.,  0.,  3.,  0.,  0.,\n",
       "         1.],\n",
       "       [ 0., 17., 14., 11., 10., 10., 11.,  9.,  7.,  8.,  6.,  2.,  6.,\n",
       "         6.,  6.,  3.,  5.,  2.,  3.,  2.,  2.,  6.,  2.,  2.,  2.,  1.,\n",
       "         0.,  0.,  0.,  1.,  3.,  0.,  1.,  2.,  0.,  0.,  2.,  1.,  0.,\n",
       "         0.],\n",
       "       [ 0., 10., 13.,  7.,  9.,  7.,  5.,  2.,  2.,  2.,  3.,  6.,  2.,\n",
       "         1.,  5.,  4.,  4.,  1.,  0.,  1.,  2.,  1.,  3.,  1.,  3.,  3.,\n",
       "         1.,  2.,  0.,  1.,  2.,  0.,  1.,  0.,  0.,  0.,  1.,  0.,  0.,\n",
       "         1.]])"
      ]
     },
     "execution_count": 33,
     "metadata": {},
     "output_type": "execute_result"
    }
   ],
   "source": [
    "X[:5,:40]"
   ]
  },
  {
   "cell_type": "code",
   "execution_count": 34,
   "metadata": {},
   "outputs": [
    {
     "data": {
      "text/plain": [
       "['202 lei', '176 lei', '187 lei', '264 lei', '187 lei']"
      ]
     },
     "execution_count": 34,
     "metadata": {},
     "output_type": "execute_result"
    }
   ],
   "source": [
    "prices[:5]"
   ]
  },
  {
   "cell_type": "code",
   "execution_count": 35,
   "metadata": {},
   "outputs": [
    {
     "data": {
      "text/plain": [
       "array([202, 176, 187, 264, 187, 160, 133, 182, 256, 288])"
      ]
     },
     "execution_count": 35,
     "metadata": {},
     "output_type": "execute_result"
    }
   ],
   "source": [
    "y = np.array([int(x.split()[0]) for x in prices])\n",
    "y[:10]"
   ]
  },
  {
   "cell_type": "code",
   "execution_count": 36,
   "metadata": {},
   "outputs": [],
   "source": [
    "from sklearn.model_selection import train_test_split\n",
    "\n",
    "x_train, x_dev, y_train, y_dev = train_test_split(X, y, test_size=0.10, random_state=1010)"
   ]
  },
  {
   "cell_type": "code",
   "execution_count": 37,
   "metadata": {},
   "outputs": [
    {
     "name": "stdout",
     "output_type": "stream",
     "text": [
      "(180, 22000)\n",
      "(20, 22000)\n",
      "(180,)\n",
      "(20,)\n"
     ]
    }
   ],
   "source": [
    "print(x_train.shape)\n",
    "print(x_dev.shape)\n",
    "print(y_train.shape)\n",
    "print(y_dev.shape)"
   ]
  },
  {
   "cell_type": "markdown",
   "metadata": {},
   "source": [
    "### Modify next cell to use (S)GD with some penalty"
   ]
  },
  {
   "cell_type": "code",
   "execution_count": 39,
   "metadata": {},
   "outputs": [],
   "source": [
    "n_feats = x_train.shape[1]\n",
    "# normal equation take a LOT due to inverse of [22000,22000] matrix\n",
    "# Theta = (X^T.X)^{-1}.X^T.y\n",
    "# Theta = np.linalg.pinv(x_train.T.dot(x_train) + 1.0 * np.eye(n_feats)).dot(x_train.T).dot(y_train)\n",
    "#y_pred = x_dev.dot(Theta)\n",
    "\n",
    "from sklearn.linear_model import LinearRegression\n",
    "model = LinearRegression()\n",
    "model.fit(x_train, y_train)\n",
    "y_pred = model.predict(x_dev)"
   ]
  },
  {
   "cell_type": "code",
   "execution_count": 40,
   "metadata": {},
   "outputs": [
    {
     "data": {
      "text/plain": [
       "array([134.55, 164.09, 152.87, 110.93, 126.65, 187.6 , 151.64, 146.7 ,\n",
       "       140.66, 199.09, 144.81, 140.4 , 124.35, 131.24, 132.02, 147.62,\n",
       "       122.15, 147.05, 133.61, 144.92])"
      ]
     },
     "execution_count": 40,
     "metadata": {},
     "output_type": "execute_result"
    }
   ],
   "source": [
    "y_pred"
   ]
  },
  {
   "cell_type": "code",
   "execution_count": 41,
   "metadata": {},
   "outputs": [
    {
     "data": {
      "text/html": [
       "<div>\n",
       "<style scoped>\n",
       "    .dataframe tbody tr th:only-of-type {\n",
       "        vertical-align: middle;\n",
       "    }\n",
       "\n",
       "    .dataframe tbody tr th {\n",
       "        vertical-align: top;\n",
       "    }\n",
       "\n",
       "    .dataframe thead th {\n",
       "        text-align: right;\n",
       "    }\n",
       "</style>\n",
       "<table border=\"1\" class=\"dataframe\">\n",
       "  <thead>\n",
       "    <tr style=\"text-align: right;\">\n",
       "      <th></th>\n",
       "      <th>Pred</th>\n",
       "      <th>Real</th>\n",
       "    </tr>\n",
       "  </thead>\n",
       "  <tbody>\n",
       "    <tr>\n",
       "      <th>0</th>\n",
       "      <td>134.5496</td>\n",
       "      <td>77</td>\n",
       "    </tr>\n",
       "    <tr>\n",
       "      <th>1</th>\n",
       "      <td>164.0886</td>\n",
       "      <td>104</td>\n",
       "    </tr>\n",
       "    <tr>\n",
       "      <th>2</th>\n",
       "      <td>152.8717</td>\n",
       "      <td>259</td>\n",
       "    </tr>\n",
       "    <tr>\n",
       "      <th>3</th>\n",
       "      <td>110.9309</td>\n",
       "      <td>82</td>\n",
       "    </tr>\n",
       "    <tr>\n",
       "      <th>4</th>\n",
       "      <td>126.6479</td>\n",
       "      <td>106</td>\n",
       "    </tr>\n",
       "    <tr>\n",
       "      <th>5</th>\n",
       "      <td>187.6044</td>\n",
       "      <td>208</td>\n",
       "    </tr>\n",
       "    <tr>\n",
       "      <th>6</th>\n",
       "      <td>151.6383</td>\n",
       "      <td>117</td>\n",
       "    </tr>\n",
       "    <tr>\n",
       "      <th>7</th>\n",
       "      <td>146.7017</td>\n",
       "      <td>82</td>\n",
       "    </tr>\n",
       "    <tr>\n",
       "      <th>8</th>\n",
       "      <td>140.6580</td>\n",
       "      <td>189</td>\n",
       "    </tr>\n",
       "    <tr>\n",
       "      <th>9</th>\n",
       "      <td>199.0940</td>\n",
       "      <td>130</td>\n",
       "    </tr>\n",
       "    <tr>\n",
       "      <th>10</th>\n",
       "      <td>144.8123</td>\n",
       "      <td>109</td>\n",
       "    </tr>\n",
       "    <tr>\n",
       "      <th>11</th>\n",
       "      <td>140.3995</td>\n",
       "      <td>176</td>\n",
       "    </tr>\n",
       "    <tr>\n",
       "      <th>12</th>\n",
       "      <td>124.3462</td>\n",
       "      <td>136</td>\n",
       "    </tr>\n",
       "    <tr>\n",
       "      <th>13</th>\n",
       "      <td>131.2376</td>\n",
       "      <td>131</td>\n",
       "    </tr>\n",
       "    <tr>\n",
       "      <th>14</th>\n",
       "      <td>132.0244</td>\n",
       "      <td>70</td>\n",
       "    </tr>\n",
       "    <tr>\n",
       "      <th>15</th>\n",
       "      <td>147.6167</td>\n",
       "      <td>187</td>\n",
       "    </tr>\n",
       "    <tr>\n",
       "      <th>16</th>\n",
       "      <td>122.1479</td>\n",
       "      <td>109</td>\n",
       "    </tr>\n",
       "    <tr>\n",
       "      <th>17</th>\n",
       "      <td>147.0452</td>\n",
       "      <td>115</td>\n",
       "    </tr>\n",
       "    <tr>\n",
       "      <th>18</th>\n",
       "      <td>133.6085</td>\n",
       "      <td>288</td>\n",
       "    </tr>\n",
       "    <tr>\n",
       "      <th>19</th>\n",
       "      <td>144.9181</td>\n",
       "      <td>163</td>\n",
       "    </tr>\n",
       "  </tbody>\n",
       "</table>\n",
       "</div>"
      ],
      "text/plain": [
       "        Pred  Real\n",
       "0   134.5496    77\n",
       "1   164.0886   104\n",
       "2   152.8717   259\n",
       "3   110.9309    82\n",
       "4   126.6479   106\n",
       "5   187.6044   208\n",
       "6   151.6383   117\n",
       "7   146.7017    82\n",
       "8   140.6580   189\n",
       "9   199.0940   130\n",
       "10  144.8123   109\n",
       "11  140.3995   176\n",
       "12  124.3462   136\n",
       "13  131.2376   131\n",
       "14  132.0244    70\n",
       "15  147.6167   187\n",
       "16  122.1479   109\n",
       "17  147.0452   115\n",
       "18  133.6085   288\n",
       "19  144.9181   163"
      ]
     },
     "execution_count": 41,
     "metadata": {},
     "output_type": "execute_result"
    }
   ],
   "source": [
    "import pandas as pd\n",
    "\n",
    "df_results = pd.DataFrame(\n",
    "    {\n",
    "        'Pred' : y_pred,\n",
    "        'Real' : y_dev,\n",
    "    }\n",
    ")\n",
    "df_results"
   ]
  },
  {
   "cell_type": "code",
   "execution_count": 42,
   "metadata": {},
   "outputs": [
    {
     "name": "stdout",
     "output_type": "stream",
     "text": [
      "x_train_n -0.07 / 105.15\n"
     ]
    }
   ],
   "source": [
    "x_mean = x_train.mean()\n",
    "x_std = x_train.std()\n",
    "y_mean = y_train.mean()\n",
    "y_std = y_train.std()\n",
    "\n",
    "x_train_n = (x_train - x_mean) / x_std\n",
    "y_train_n = (y_train - y_mean) / y_std\n",
    "\n",
    "x_dev_n = (x_dev - x_mean) / x_std\n",
    "y_dev_n = (y_dev - y_mean) / y_std\n",
    "\n",
    "print(\"x_train_n {:.2f} / {:.2f}\".format(x_train_n.min(), x_train_n.max()))\n"
   ]
  },
  {
   "cell_type": "markdown",
   "metadata": {},
   "source": [
    "### Modify next cell to use (S)GD with some penalty"
   ]
  },
  {
   "cell_type": "code",
   "execution_count": 45,
   "metadata": {},
   "outputs": [
    {
     "data": {
      "text/html": [
       "<div>\n",
       "<style scoped>\n",
       "    .dataframe tbody tr th:only-of-type {\n",
       "        vertical-align: middle;\n",
       "    }\n",
       "\n",
       "    .dataframe tbody tr th {\n",
       "        vertical-align: top;\n",
       "    }\n",
       "\n",
       "    .dataframe thead th {\n",
       "        text-align: right;\n",
       "    }\n",
       "</style>\n",
       "<table border=\"1\" class=\"dataframe\">\n",
       "  <thead>\n",
       "    <tr style=\"text-align: right;\">\n",
       "      <th></th>\n",
       "      <th>Pred</th>\n",
       "      <th>Real</th>\n",
       "    </tr>\n",
       "  </thead>\n",
       "  <tbody>\n",
       "    <tr>\n",
       "      <th>0</th>\n",
       "      <td>134.3858</td>\n",
       "      <td>77</td>\n",
       "    </tr>\n",
       "    <tr>\n",
       "      <th>1</th>\n",
       "      <td>163.7079</td>\n",
       "      <td>104</td>\n",
       "    </tr>\n",
       "    <tr>\n",
       "      <th>2</th>\n",
       "      <td>153.3514</td>\n",
       "      <td>259</td>\n",
       "    </tr>\n",
       "    <tr>\n",
       "      <th>3</th>\n",
       "      <td>110.3979</td>\n",
       "      <td>82</td>\n",
       "    </tr>\n",
       "    <tr>\n",
       "      <th>4</th>\n",
       "      <td>127.9706</td>\n",
       "      <td>106</td>\n",
       "    </tr>\n",
       "    <tr>\n",
       "      <th>5</th>\n",
       "      <td>187.4618</td>\n",
       "      <td>208</td>\n",
       "    </tr>\n",
       "    <tr>\n",
       "      <th>6</th>\n",
       "      <td>151.6977</td>\n",
       "      <td>117</td>\n",
       "    </tr>\n",
       "    <tr>\n",
       "      <th>7</th>\n",
       "      <td>147.4539</td>\n",
       "      <td>82</td>\n",
       "    </tr>\n",
       "    <tr>\n",
       "      <th>8</th>\n",
       "      <td>141.5068</td>\n",
       "      <td>189</td>\n",
       "    </tr>\n",
       "    <tr>\n",
       "      <th>9</th>\n",
       "      <td>199.8284</td>\n",
       "      <td>130</td>\n",
       "    </tr>\n",
       "    <tr>\n",
       "      <th>10</th>\n",
       "      <td>144.4966</td>\n",
       "      <td>109</td>\n",
       "    </tr>\n",
       "    <tr>\n",
       "      <th>11</th>\n",
       "      <td>139.8036</td>\n",
       "      <td>176</td>\n",
       "    </tr>\n",
       "    <tr>\n",
       "      <th>12</th>\n",
       "      <td>123.4812</td>\n",
       "      <td>136</td>\n",
       "    </tr>\n",
       "    <tr>\n",
       "      <th>13</th>\n",
       "      <td>131.4141</td>\n",
       "      <td>131</td>\n",
       "    </tr>\n",
       "    <tr>\n",
       "      <th>14</th>\n",
       "      <td>132.3191</td>\n",
       "      <td>70</td>\n",
       "    </tr>\n",
       "    <tr>\n",
       "      <th>15</th>\n",
       "      <td>146.2207</td>\n",
       "      <td>187</td>\n",
       "    </tr>\n",
       "    <tr>\n",
       "      <th>16</th>\n",
       "      <td>122.8835</td>\n",
       "      <td>109</td>\n",
       "    </tr>\n",
       "    <tr>\n",
       "      <th>17</th>\n",
       "      <td>145.6684</td>\n",
       "      <td>115</td>\n",
       "    </tr>\n",
       "    <tr>\n",
       "      <th>18</th>\n",
       "      <td>132.5242</td>\n",
       "      <td>288</td>\n",
       "    </tr>\n",
       "    <tr>\n",
       "      <th>19</th>\n",
       "      <td>145.1484</td>\n",
       "      <td>163</td>\n",
       "    </tr>\n",
       "  </tbody>\n",
       "</table>\n",
       "</div>"
      ],
      "text/plain": [
       "        Pred  Real\n",
       "0   134.3858    77\n",
       "1   163.7079   104\n",
       "2   153.3514   259\n",
       "3   110.3979    82\n",
       "4   127.9706   106\n",
       "5   187.4618   208\n",
       "6   151.6977   117\n",
       "7   147.4539    82\n",
       "8   141.5068   189\n",
       "9   199.8284   130\n",
       "10  144.4966   109\n",
       "11  139.8036   176\n",
       "12  123.4812   136\n",
       "13  131.4141   131\n",
       "14  132.3191    70\n",
       "15  146.2207   187\n",
       "16  122.8835   109\n",
       "17  145.6684   115\n",
       "18  132.5242   288\n",
       "19  145.1484   163"
      ]
     },
     "execution_count": 45,
     "metadata": {},
     "output_type": "execute_result"
    }
   ],
   "source": [
    "# normal equation take a LOT due to inverse of [22000,22000] matrix\n",
    "# Theta = (X^T.X)^{-1}.X^T.y\n",
    "#Theta_n = np.linalg.pinv(x_train_n.T.dot(x_train_n) + 1.0 * np.eye(n_feats)).dot(x_train_n.T).dot(y_train_n)\n",
    "#y_pred_n = x_dev_n.dot(Theta_n)\n",
    "\n",
    "\n",
    "from sklearn.linear_model import LinearRegression\n",
    "model_n = LinearRegression()\n",
    "model_n.fit(x_train_n, y_train_n)\n",
    "y_pred_n = model_n.predict(x_dev_n)\n",
    "\n",
    "y_pred_n_dn = y_pred_n * y_std + y_mean\n",
    "\n",
    "df_results_n = pd.DataFrame(\n",
    "    {\n",
    "        'Pred' : y_pred_n_dn,\n",
    "        'Real' : y_dev,\n",
    "    }\n",
    ")\n",
    "df_results_n"
   ]
  },
  {
   "cell_type": "markdown",
   "metadata": {},
   "source": [
    "## Homework\n",
    "\n",
    "1. Write your own GD loop with L1 or L2 regularization using objective function `mean((y_pred - y_true) ** 2)`\n",
    "2. Change data pre-processing in order (maybe) to obtain a better result\n",
    "3. Try to write a mini grid-search loop to search for best approach within above set of options"
   ]
  },
  {
   "cell_type": "code",
   "execution_count": null,
   "metadata": {},
   "outputs": [],
   "source": []
  }
 ],
 "metadata": {
  "kernelspec": {
   "display_name": "Python 3",
   "language": "python",
   "name": "python3"
  },
  "language_info": {
   "codemirror_mode": {
    "name": "ipython",
    "version": 3
   },
   "file_extension": ".py",
   "mimetype": "text/x-python",
   "name": "python",
   "nbconvert_exporter": "python",
   "pygments_lexer": "ipython3",
   "version": "3.7.4"
  }
 },
 "nbformat": 4,
 "nbformat_minor": 4
}

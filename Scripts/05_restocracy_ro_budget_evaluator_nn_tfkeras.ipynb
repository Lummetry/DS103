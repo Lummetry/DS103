{
 "cells": [
  {
   "cell_type": "code",
   "execution_count": 54,
   "metadata": {},
   "outputs": [],
   "source": [
    "import pickle\n",
    "import os\n",
    "import matplotlib.pyplot as plt\n",
    "import numpy as np\n",
    "import utils\n",
    "import pandas as pd\n",
    "utils.set_pretty_prints()"
   ]
  },
  {
   "cell_type": "code",
   "execution_count": 2,
   "metadata": {},
   "outputs": [],
   "source": [
    "DATA_FOLDER = '../data'\n",
    "DATA_FILE = 'restocracy_all_data.pkl'"
   ]
  },
  {
   "cell_type": "code",
   "execution_count": 3,
   "metadata": {},
   "outputs": [],
   "source": [
    "with open(os.path.join(DATA_FOLDER, DATA_FILE), 'rb') as fh:\n",
    "    data = pickle.load(fh)"
   ]
  },
  {
   "cell_type": "code",
   "execution_count": 4,
   "metadata": {},
   "outputs": [
    {
     "data": {
      "text/plain": [
       "{'price': '202 lei',\n",
       " 'review': ' \\n Noul restaurant vedeta al Bucurestiului, o constructie geniala de marketing \\n Maize s-a deschis la inceputul lui noiembrie 2017 in mansarda unui (fel de) bloc cu doua etaje de pe eleganta strada Paris, aproape de Piata Dorobantilor. Poti sa o iei, la fel de bine, si ca pe o casa veche din Bucurestiul vechi, facuta fara imaginatie, sau cu economie la arhitect. Casa e renovata recent, iar zona e atat de frumoasa si de aristocratica, incat orice casa de acolo nu poate sa fie decat frumoasa si ea, indiferent cum ar arata si in ce stare ar fi. \\n Daca cei care au construit batrana casa nu au adus arhitecti cu imaginatie, cei care au transformat mansarda in restaurantul Maize au facut-o. Totul arata foarte bine acolo, au pus in valoare fiecare coltisor si detaliu, au reusit sa o umple si de lumina, si au facut loc si bucatariei chiar in mijloc, cu plite si gratare cu tot, dupa cum se vede si in poze, care ma scutesc de mai mult scris. Acolo, sus, au si o mica terasa pe acoperis, foarte frumoasa si ea, desigur, si nu stiu daca a lor va fi si curtea din spate: mare, cu case frumoase in jur, un alt arhitect bun ar putea face acolo o terasa de referinta a orasului. Muzica e data foarte tare, dar presupun ca am fost printre putinii deranjati de asta. \\n Dar sa vorbim despre mancare, pentru ca la Maize, spre diferenta de multe alte restaurante care au investit o avere in amenajare, mancarea e un lucru serios, chiar foarte, foarte serios. Au la Maize un chef, nu stiu cum il cheama, dar cred ca e cel despre care am mai scris pe cand a deschis un restaurant in apropiere de Marriott, ceva cu Funky Cuisine, si apoi l-am vazut, pentru scurt timp, la E3 by Entourage, in Piata Floreasca. Daca e acelasi, deci, atunci e foarte talentat, am scris si atunci asta, si acum nu fac decat sa confirm ca nu a stat pe loc, ci a mers mult mai departe. Si nu se va opri aici, fara indoiala… E unul dintre cei mai creativi si mai potriviti pentru o astfel de meserie din cati bucatari am vazut. \\n Conceptul gastronomic enuntat de Maize, si sustinut de tot ce am vazut in meniu, pe plita si in farfurie, este de „farm to table”, de „bucatarie creativa de ingrediente” romanesti, adica inventarea, recrearea, recompunerea si recombinarea retetelor si crearea altora noi, cam tot ce se poate face cu niste produse si ingrediente de buna calitate venite de la furnizori seriosi si de incredere – atat cat se poate. Putem sa-i spunem, la fel de bine, La Nouvelle Cuisine Roumaine/ Romaneasca, bucatari fina, adica, si atunci ei ar fi pionierii, deschizatorii de drum, fara indoiala. \\n Meniul e cu totul original, nu cred ca e un singur fel acolo cu ceva ce s-a mai facut in alte restaurante. Si in asta sta (o parte din) talentul chefului despre care am vorbit, sa recompuna la nesfarsit produsele si ingredientele si sa puna in farfurie combinatiile cele mai reusite. \\n Ca totul e la vedere la Maize, ca sase bucatari – toti tineri si frumosi, cu fete si tatuaje de pus in revista, nu in ultimul rand – muncesc la fiecare farfurie in parte de parca ar fi intr-un atelier de orfevarie, e iarasi o constructie a unui mare specialist in marketing – daca geniul in marketing nu o fi insusi cheful… \\n Tot ce am mancat la Maize a fost bun si foarte bun. Ne-au dat ca amuse-bouche o zacusca, pusa pe un fel de turta mica. Foarte buna la gust, insa cu zahar in exces, parca mancai Nutella pe paine. Orezul cu parmezan 9si cu galbenus de ou, presupun) foarte bun, de asemenea, tartarul de vita original, bun si el; nu cred ca avea untura sau seu de vita in el, insa asa parea. Un file de dorada cu sos a fost revelatia zilei, foarte buna dorada, excelent sosul, foarte bine facut spanacul. Apoi am primit o ceafa de porc de Mangalita, putin cam prea mult facut, cu o varza tinuta prea mult pe o plita prea incinsa, dupa cum se vede si din poza, cu cateva frunze de ceva prea sarate, iar cu restul legumelor foarte bune si bune facute. Si desrtul a fost foarte bun, si chiar si cafeaua, o surpriza placuta si un lucru prea mult neglijat de catre cei din resturante. \\n Interesant a fost si ca unul dintre bucatari – si nu chelnerul, si aici iarasi se vede intuitia geniala de marketing si cunoasterea detaliilor fine ale client service-ului – venea la masa si explica fiecare fel in parte. \\n Serviciul a fost bun, cu un chelner relaxat si placut la apropiere, dar care nu aflase inca, la o varsta nu tocmai de incepator, ca nu mananca doi oameni cu furculitele direct dintr-o aceeasi farfurie, chiar daca sunt ei prieteni buni, de-o viata. Dar nu s-a prins el nici dupa ce i-am explicat noi cum e cu igiena in farfurie… \\n Preturile sunt normale si rezonabile, daca e sa masuram ce vezi in farfurie si in jur la Maize fata de alte restaurante de pe strazile scumpe ale Bucurestiului. O masa in doi, cu o sticla de vin bun, te costa vreo 4-500 de lei. \\n Maize, baietii lor frumosi si foarte talentati din bucatarie, si, mai ales, farfuriile cu mancaruri ca acelea din pozele noastre, vor deveni in foarte scurt timp vedete de prim-plan ale gastronomiei si mondenitatii bucurestene, fara indoiala. ii voi urmari atent si voi mai scrie despre ei, cu atat mai mult cu cat sunt foarte aproape de mine… (GB – noiembrie 2017) \\n \\n\\t\\t\\t\\tVineri, 1 noiembrie 2018, Asociatia Producatorilor de Salam de Sibiu (APSS) a organizat o cina festiva pentru a sarbatori cei 130 de ani de excelenta si recunoastere europeana de care se bucura acest ...\\t\\t\\t \\n \\n\\t\\t\\t\\tDiferenta dintre marile restaurante si celelalte o vezi, cu adevarat, la legume si la sosuri. Nu la carne, la peste si la ce mai poti primi intr-o farfurie. Replica lui Paul Bocuse, cum ca \"un peste e...\\t\\t\\t \\n \\n\\t\\t\\t\\t Cand am dat Premiile Restocracy pe 2017 pentru restaurantul cu cea mai buna bucatarie romaneasca din Bucuresti, nu am luat in calcul diferentele dintre restaurantele traditionale romanesti, cele cu b...\\t\\t\\t \\n \\n\\t\\t\\t\\tMulte bucatarii nationale au cele doua ramuri bine delimitate: o bucatarie traditionala, populara, si o bucatarie fina. Incepand cu cea mai celebra, mai sofisticata si mai buna din lume, La Cuisine Fr...\\t\\t\\t \\n \\n\\t\\t\\t\\tAlex Petricean este Head Chef-ul restaurantului Maize, deschis anul acesta.\\r\\n\\r\\nRestocracy: De unde, sau de la cine, ati invatat cele mai importante lucruri pe care le stiti despre bucatarie si gatit?\\r...\\t\\t\\t \\n MAIZE si-a deschis, in sfarsit, terasa, dupa foarte multe dificultati tehnice pe care au trebuit sa le depaseasca, fiindca au tinut sa faca si bucatarie acolo, chiar daca una restransa. E in curtea din spate a cladirii din strada Paris 61 in care sunt. Au facut o bucatarie de vara, o bucatarie deschisa. Ce se serveste pe terasa se pregateste direct acolo, un meniu mai restrans decat cel din restaurant. Au vreo zece mese mici, din cate am numarat eu, cu banchete la perete, incap vreo 25 de oameni in toata terasa, cel mult. Pozele sunt de la evenimentul de inaugurare, din 2 septembrie. (GB – sept. 2018)'}"
      ]
     },
     "execution_count": 4,
     "metadata": {},
     "output_type": "execute_result"
    }
   ],
   "source": [
    "data[0]"
   ]
  },
  {
   "cell_type": "code",
   "execution_count": 5,
   "metadata": {},
   "outputs": [
    {
     "data": {
      "text/plain": [
       "200"
      ]
     },
     "execution_count": 5,
     "metadata": {},
     "output_type": "execute_result"
    }
   ],
   "source": [
    "len(data)"
   ]
  },
  {
   "cell_type": "code",
   "execution_count": 6,
   "metadata": {},
   "outputs": [],
   "source": [
    "prices = [x['price'] for x in data]\n",
    "reviews = [x['review'] for x in data]"
   ]
  },
  {
   "cell_type": "code",
   "execution_count": 7,
   "metadata": {},
   "outputs": [
    {
     "data": {
      "text/plain": [
       "['202 lei', '176 lei', '187 lei', '264 lei', '187 lei']"
      ]
     },
     "execution_count": 7,
     "metadata": {},
     "output_type": "execute_result"
    }
   ],
   "source": [
    "prices[:5]"
   ]
  },
  {
   "cell_type": "code",
   "execution_count": 8,
   "metadata": {},
   "outputs": [
    {
     "data": {
      "text/plain": [
       "' \\n Noul restaurant vedeta al Bucurestiului, o constructie geniala de marketing \\n Maize s-a deschis la inceputul lui noiembrie 2017 in mansarda unui (fel de) bloc cu doua etaje de pe eleganta strada Paris, aproape de Piata Dorobantilor. Poti sa o iei, la fel de bine, si ca pe o casa veche din Bucurestiul vechi, facuta fara imaginatie, sau cu economie la arhitect. Casa e renovata recent, iar zona e atat de frumoasa si de aristocratica, incat orice casa de acolo nu poate sa fie decat frumoasa si ea, indiferent cum ar arata si in ce stare ar fi. \\n Daca cei care au construit batrana casa nu au adus arhitecti cu imaginatie, cei care au transformat mansarda in restaurantul Maize au facut-o. Totul arata foarte bine acolo, au pus in valoare fiecare coltisor si detaliu, au reusit sa o umple si de lumina, si au facut loc si bucatariei chiar in mijloc, cu plite si gratare cu tot, dupa cum se vede si in poze, care ma scutesc de mai mult scris. Acolo, sus, au si o mica terasa pe acoperis, foarte frumoasa si ea, desigur, si nu stiu daca a lor va fi si curtea din spate: mare, cu case frumoase in jur, un alt arhitect bun ar putea face acolo o terasa de referinta a orasului. Muzica e data foarte tare, dar presupun ca am fost printre putinii deranjati de asta. \\n Dar sa vorbim despre mancare, pentru ca la Maize, spre diferenta de multe alte restaurante care au investit o avere in amenajare, mancarea e un lucru serios, chiar foarte, foarte serios. Au la Maize un chef, nu stiu cum il cheama, dar cred ca e cel despre care am mai scris pe cand a deschis un restaurant in apropiere de Marriott, ceva cu Funky Cuisine, si apoi l-am vazut, pentru scurt timp, la E3 by Entourage, in Piata Floreasca. Daca e acelasi, deci, atunci e foarte talentat, am scris si atunci asta, si acum nu fac decat sa confirm ca nu a stat pe loc, ci a mers mult mai departe. Si nu se va opri aici, fara indoiala… E unul dintre cei mai creativi si mai potriviti pentru o astfel de meserie din cati bucatari am vazut. \\n Conceptul gastronomic enuntat de Maize, si sustinut de tot ce am vazut in meniu, pe plita si in farfurie, este de „farm to table”, de „bucatarie creativa de ingrediente” romanesti, adica inventarea, recrearea, recompunerea si recombinarea retetelor si crearea altora noi, cam tot ce se poate face cu niste produse si ingrediente de buna calitate venite de la furnizori seriosi si de incredere – atat cat se poate. Putem sa-i spunem, la fel de bine, La Nouvelle Cuisine Roumaine/ Romaneasca, bucatari fina, adica, si atunci ei ar fi pionierii, deschizatorii de drum, fara indoiala. \\n Meniul e cu totul original, nu cred ca e un singur fel acolo cu ceva ce s-a mai facut in alte restaurante. Si in asta sta (o parte din) talentul chefului despre care am vorbit, sa recompuna la nesfarsit produsele si ingredientele si sa puna in farfurie combinatiile cele mai reusite. \\n Ca totul e la vedere la Maize, ca sase bucatari – toti tineri si frumosi, cu fete si tatuaje de pus in revista, nu in ultimul rand – muncesc la fiecare farfurie in parte de parca ar fi intr-un atelier de orfevarie, e iarasi o constructie a unui mare specialist in marketing – daca geniul in marketing nu o fi insusi cheful… \\n Tot ce am mancat la Maize a fost bun si foarte bun. Ne-au dat ca amuse-bouche o zacusca, pusa pe un fel de turta mica. Foarte buna la gust, insa cu zahar in exces, parca mancai Nutella pe paine. Orezul cu parmezan 9si cu galbenus de ou, presupun) foarte bun, de asemenea, tartarul de vita original, bun si el; nu cred ca avea untura sau seu de vita in el, insa asa parea. Un file de dorada cu sos a fost revelatia zilei, foarte buna dorada, excelent sosul, foarte bine facut spanacul. Apoi am primit o ceafa de porc de Mangalita, putin cam prea mult facut, cu o varza tinuta prea mult pe o plita prea incinsa, dupa cum se vede si din poza, cu cateva frunze de ceva prea sarate, iar cu restul legumelor foarte bune si bune facute. Si desrtul a fost foarte bun, si chiar si cafeaua, o surpriza placuta si un lucru prea mult neglijat de catre cei din resturante. \\n Interesant a fost si ca unul dintre bucatari – si nu chelnerul, si aici iarasi se vede intuitia geniala de marketing si cunoasterea detaliilor fine ale client service-ului – venea la masa si explica fiecare fel in parte. \\n Serviciul a fost bun, cu un chelner relaxat si placut la apropiere, dar care nu aflase inca, la o varsta nu tocmai de incepator, ca nu mananca doi oameni cu furculitele direct dintr-o aceeasi farfurie, chiar daca sunt ei prieteni buni, de-o viata. Dar nu s-a prins el nici dupa ce i-am explicat noi cum e cu igiena in farfurie… \\n Preturile sunt normale si rezonabile, daca e sa masuram ce vezi in farfurie si in jur la Maize fata de alte restaurante de pe strazile scumpe ale Bucurestiului. O masa in doi, cu o sticla de vin bun, te costa vreo 4-500 de lei. \\n Maize, baietii lor frumosi si foarte talentati din bucatarie, si, mai ales, farfuriile cu mancaruri ca acelea din pozele noastre, vor deveni in foarte scurt timp vedete de prim-plan ale gastronomiei si mondenitatii bucurestene, fara indoiala. ii voi urmari atent si voi mai scrie despre ei, cu atat mai mult cu cat sunt foarte aproape de mine… (GB – noiembrie 2017) \\n \\n\\t\\t\\t\\tVineri, 1 noiembrie 2018, Asociatia Producatorilor de Salam de Sibiu (APSS) a organizat o cina festiva pentru a sarbatori cei 130 de ani de excelenta si recunoastere europeana de care se bucura acest ...\\t\\t\\t \\n \\n\\t\\t\\t\\tDiferenta dintre marile restaurante si celelalte o vezi, cu adevarat, la legume si la sosuri. Nu la carne, la peste si la ce mai poti primi intr-o farfurie. Replica lui Paul Bocuse, cum ca \"un peste e...\\t\\t\\t \\n \\n\\t\\t\\t\\t Cand am dat Premiile Restocracy pe 2017 pentru restaurantul cu cea mai buna bucatarie romaneasca din Bucuresti, nu am luat in calcul diferentele dintre restaurantele traditionale romanesti, cele cu b...\\t\\t\\t \\n \\n\\t\\t\\t\\tMulte bucatarii nationale au cele doua ramuri bine delimitate: o bucatarie traditionala, populara, si o bucatarie fina. Incepand cu cea mai celebra, mai sofisticata si mai buna din lume, La Cuisine Fr...\\t\\t\\t \\n \\n\\t\\t\\t\\tAlex Petricean este Head Chef-ul restaurantului Maize, deschis anul acesta.\\r\\n\\r\\nRestocracy: De unde, sau de la cine, ati invatat cele mai importante lucruri pe care le stiti despre bucatarie si gatit?\\r...\\t\\t\\t \\n MAIZE si-a deschis, in sfarsit, terasa, dupa foarte multe dificultati tehnice pe care au trebuit sa le depaseasca, fiindca au tinut sa faca si bucatarie acolo, chiar daca una restransa. E in curtea din spate a cladirii din strada Paris 61 in care sunt. Au facut o bucatarie de vara, o bucatarie deschisa. Ce se serveste pe terasa se pregateste direct acolo, un meniu mai restrans decat cel din restaurant. Au vreo zece mese mici, din cate am numarat eu, cu banchete la perete, incap vreo 25 de oameni in toata terasa, cel mult. Pozele sunt de la evenimentul de inaugurare, din 2 septembrie. (GB – sept. 2018)'"
      ]
     },
     "execution_count": 8,
     "metadata": {},
     "output_type": "execute_result"
    }
   ],
   "source": [
    "reviews[0]"
   ]
  },
  {
   "cell_type": "code",
   "execution_count": 9,
   "metadata": {},
   "outputs": [
    {
     "data": {
      "text/plain": [
       "['Noul',\n",
       " 'restaurant',\n",
       " 'vedeta',\n",
       " 'al',\n",
       " 'Bucurestiului,',\n",
       " 'o',\n",
       " 'constructie',\n",
       " 'geniala',\n",
       " 'de',\n",
       " 'marketing']"
      ]
     },
     "execution_count": 9,
     "metadata": {},
     "output_type": "execute_result"
    }
   ],
   "source": [
    "reviews[0].split()[:10]"
   ]
  },
  {
   "cell_type": "code",
   "execution_count": 10,
   "metadata": {},
   "outputs": [],
   "source": [
    "def get_vocab(lst_docs):\n",
    "    dct_occ = {}\n",
    "    for doc in lst_docs:\n",
    "        words = doc.split()\n",
    "        for word in words:\n",
    "            if word in dct_occ:\n",
    "                dct_occ[word] += 1\n",
    "            else:\n",
    "                dct_occ[word] = 1\n",
    "    occs = [(w, a) for w,a in dct_occ.items()]\n",
    "    occs = sorted(occs, key=lambda x: x[1], reverse=True)\n",
    "    dct_w2i = {w[0]:i+1 for i,w in enumerate(occs)}\n",
    "    dct_w2i['UNK'] = 0\n",
    "    dct_i2w = {i:w for w,i in dct_w2i.items()}\n",
    "    return occs, dct_w2i, dct_i2w"
   ]
  },
  {
   "cell_type": "code",
   "execution_count": 11,
   "metadata": {},
   "outputs": [
    {
     "data": {
      "text/plain": [
       "[('de', 7642),\n",
       " ('si', 6195),\n",
       " ('in', 3904),\n",
       " ('la', 3650),\n",
       " ('cu', 3275),\n",
       " ('mai', 3019),\n",
       " ('ca', 2698),\n",
       " ('sa', 2655),\n",
       " ('din', 2230),\n",
       " ('care', 2147)]"
      ]
     },
     "execution_count": 11,
     "metadata": {},
     "output_type": "execute_result"
    }
   ],
   "source": [
    "oc, w2i, i2w = get_vocab(reviews)\n",
    "oc[:10]"
   ]
  },
  {
   "cell_type": "code",
   "execution_count": 12,
   "metadata": {},
   "outputs": [
    {
     "data": {
      "text/plain": [
       "2181"
      ]
     },
     "execution_count": 12,
     "metadata": {},
     "output_type": "execute_result"
    }
   ],
   "source": [
    "w2i['Noul']"
   ]
  },
  {
   "cell_type": "code",
   "execution_count": 13,
   "metadata": {},
   "outputs": [
    {
     "data": {
      "text/plain": [
       "'bune'"
      ]
     },
     "execution_count": 13,
     "metadata": {},
     "output_type": "execute_result"
    }
   ],
   "source": [
    "i2w[100]"
   ]
  },
  {
   "cell_type": "code",
   "execution_count": 14,
   "metadata": {},
   "outputs": [
    {
     "data": {
      "text/plain": [
       "0"
      ]
     },
     "execution_count": 14,
     "metadata": {},
     "output_type": "execute_result"
    }
   ],
   "source": [
    "w2i.get('bunicel',0)"
   ]
  },
  {
   "cell_type": "code",
   "execution_count": 15,
   "metadata": {},
   "outputs": [
    {
     "data": {
      "text/plain": [
       "22000"
      ]
     },
     "execution_count": 15,
     "metadata": {},
     "output_type": "execute_result"
    }
   ],
   "source": [
    "len(w2i)"
   ]
  },
  {
   "cell_type": "code",
   "execution_count": 16,
   "metadata": {},
   "outputs": [],
   "source": [
    "def doc_to_tokens(doc, dct_w2i, unk=0):\n",
    "    tokens = []\n",
    "    for word in doc.split():\n",
    "        tokens.append(dct_w2i.get(word, unk))\n",
    "    return tokens\n",
    "\n",
    "def tokens_to_doc(tokens, dct_i2w):\n",
    "    words = []\n",
    "    for token in tokens:\n",
    "        words.append(dct_i2w[token])\n",
    "    return \" \".join(words)"
   ]
  },
  {
   "cell_type": "code",
   "execution_count": 17,
   "metadata": {},
   "outputs": [
    {
     "data": {
      "text/plain": [
       "[0, 59, 22, 46, 9960, 0, 2, 97, 0]"
      ]
     },
     "execution_count": 17,
     "metadata": {},
     "output_type": "execute_result"
    }
   ],
   "source": [
    "t1 = doc_to_tokens(\n",
    "    doc=\"ana are foarte multe mere frumusele si putin viermanoase\", \n",
    "    dct_w2i=w2i\n",
    ")\n",
    "t1"
   ]
  },
  {
   "cell_type": "code",
   "execution_count": 18,
   "metadata": {},
   "outputs": [
    {
     "data": {
      "text/plain": [
       "'UNK are foarte multe mere UNK si putin UNK'"
      ]
     },
     "execution_count": 18,
     "metadata": {},
     "output_type": "execute_result"
    }
   ],
   "source": [
    "tokens_to_doc(t1, i2w)"
   ]
  },
  {
   "cell_type": "code",
   "execution_count": 19,
   "metadata": {},
   "outputs": [
    {
     "data": {
      "text/plain": [
       "(array([72., 83., 19.,  8.,  8.,  1.,  3.,  1.,  3.,  2.]),\n",
       " array([  255. ,  3259.2,  6263.4,  9267.6, 12271.8, 15276. , 18280.2, 21284.4, 24288.6, 27292.8, 30297. ]),\n",
       " <a list of 10 Patch objects>)"
      ]
     },
     "execution_count": 19,
     "metadata": {},
     "output_type": "execute_result"
    },
    {
     "data": {
      "image/png": "[encoded data removed]",
      "text/plain": [
       "<Figure size 432x288 with 1 Axes>"
      ]
     },
     "metadata": {},
     "output_type": "display_data"
    }
   ],
   "source": [
    "review_lens = [len(r) for r in reviews]\n",
    "plt.hist(review_lens)"
   ]
  },
  {
   "cell_type": "code",
   "execution_count": 20,
   "metadata": {},
   "outputs": [
    {
     "data": {
      "text/plain": [
       "'Ei bine, nu stiu sa raspund la intrebarea asta… E'"
      ]
     },
     "execution_count": 20,
     "metadata": {},
     "output_type": "execute_result"
    }
   ],
   "source": [
    "# but we need words\n",
    "all_data = [doc_to_tokens(doc, dct_w2i=w2i) for doc in reviews]\n",
    "tokens_to_doc(all_data[10][:10], i2w)"
   ]
  },
  {
   "cell_type": "code",
   "execution_count": 21,
   "metadata": {},
   "outputs": [
    {
     "data": {
      "text/plain": [
       "' \\n Ei bine, nu stiu sa raspund la intrebarea asta… \\n E greu de crezut ca sunt atat de multe restaura'"
      ]
     },
     "execution_count": 21,
     "metadata": {},
     "output_type": "execute_result"
    }
   ],
   "source": [
    "reviews[10][:100]"
   ]
  },
  {
   "cell_type": "code",
   "execution_count": 22,
   "metadata": {},
   "outputs": [
    {
     "data": {
      "text/plain": [
       "(array([12., 52., 68., 24., 10., 10.,  4.,  2.,  3.,  5.,  1.,  0.,  1.,  2.,  0.,  2.,  2.,  0.,  0.,  2.]),\n",
       " array([  34. ,  290.5,  547. ,  803.5, 1060. , 1316.5, 1573. , 1829.5, 2086. , 2342.5, 2599. , 2855.5, 3112. , 3368.5, 3625. , 3881.5, 4138. , 4394.5, 4651. , 4907.5, 5164. ]),\n",
       " <a list of 20 Patch objects>)"
      ]
     },
     "execution_count": 22,
     "metadata": {},
     "output_type": "execute_result"
    },
    {
     "data": {
      "image/png": "[encoded data removed]",
      "text/plain": [
       "<Figure size 432x288 with 1 Axes>"
      ]
     },
     "metadata": {},
     "output_type": "display_data"
    }
   ],
   "source": [
    "reviews_token_lens = [len(r) for r in all_data]\n",
    "plt.hist(reviews_token_lens, bins=20)"
   ]
  },
  {
   "cell_type": "code",
   "execution_count": 26,
   "metadata": {},
   "outputs": [
    {
     "name": "stdout",
     "output_type": "stream",
     "text": [
      "500\n",
      "[2181, 26, 2751, 37, 244, 15, 1377, 4219, 1, 2420, 3573, 86, 127, 4, 1644, 78, 1160, 886, 3, 4220, 160, 10654, 10655, 635, 5, 106, 5192, 1, 11, 3076, 314, 3077, 128, 1, 125, 1781, 1290, 8, 15, 10656, 4, 69, 1, 173, 2, 7, 11, 15, 188, 1782, 9, 528, 636, 502, 82, 5193, 27, 5, 3574, 4, 5194, 141, 16, 2421, 5195, 122, 239, 16, 129, 1, 529, 2, 1, 4221, 637, 251, 188, 1, 98, 13, 88, 8, 79, 89, 529, 2, 598, 1979, 40, 63, 199, 2, 3, 19, 1980, 63, 6805, 143, 58, 10, 21, 745, 3078, 188, 13, 21, 489, 2752, 5, 5193, 58, 10, 21, 4222, 4220, 3, 90, 3573, 21, 5196, 1538, 199, 22, 36, 137, 21, 174, 3, 2422, 138, 6806, 2, 6807, 21, 412, 8, 15, 1783, 2, 1, 10657, 2, 21, 109, 196, 2, 848, 47, 3, 1233, 5, 10658, 2, 6808, 5, 990, 49, 40, 20, 283, 2, 3, 1161, 10, 118, 10659, 1, 6, 29, 3575, 2423, 717, 21, 2, 15, 430, 136, 11, 3079, 22, 529, 2, 598, 545, 2, 13, 112, 45, 14, 179, 42, 41, 2, 1454, 9, 10660, 148, 5, 582, 474, 3, 1162, 12, 275, 991, 66, 63, 259, 114, 98, 15, 136, 1, 992, 14, 2182, 1981, 16, 117, 22, 2183, 28, 813, 7, 18, 24, 341, 10661, 10662, 1, 777, 155, 8, 849, 56, 475, 17, 7, 4, 3576, 166, 718, 1, 46, 91, 48, 10, 21, 3577, 15, 5197, 3, 2184, 134, 16, 12, 270, 1455, 47, 6809, 22, 5198, 101, 4, 3573, 12, 1456, 13, 112, 40, 103, 6810, 28, 74, 7, 16, 32, 56, 10, 18, 6, 206, 11, 31, 14, 127, 12, 26, 3, 2753, 1, 1982, 53, 5, 4223, 1784, 2, 243, 387, 6811, 17, 638, 564, 4, 1234, 189, 6812, 3, 125, 1539, 143, 16, 3578, 814, 211, 16, 22, 2185, 18, 206, 2, 211, 719, 2, 95, 13, 130, 89, 8, 10663, 7, 13, 14, 1163, 11, 1235, 163, 14, 693, 29, 6, 3579, 52, 13, 20, 42, 6813, 746, 82, 10664, 83, 77, 43, 58, 6, 6814, 2, 6, 10665, 17, 15, 284, 1, 1291, 9, 3080, 271, 18, 2754, 1540, 1378, 10666, 1, 3576, 2, 4224, 1, 60, 19, 18, 221, 3, 565, 11, 5199, 2, 3, 1785, 25, 1, 10667, 321, 10668, 1, 5200, 4225, 1, 10669, 993, 322, 10670, 10671, 10672, 2, 10673, 10674, 2, 5201, 5202, 382, 144, 60, 19, 20, 88, 114, 5, 126, 215, 2, 453, 1, 64, 371, 6815, 1, 4, 616, 6816, 2, 1, 3580, 33, 129, 87, 20, 6817, 10675, 352, 10676, 4, 69, 1, 173, 50, 10677, 1236, 10678, 5203, 271, 476, 3081, 2, 211, 94, 63, 41, 10679, 10680, 1, 3581, 82, 1164, 212, 16, 5, 222, 1645, 13, 74, 7, 16, 12, 431, 69, 98, 5, 53, 19, 86, 6, 109, 3, 91, 1786, 52, 3, 177, 599, 4226, 191, 10681, 2186, 10682, 56, 10, 18, 5204, 8, 10683]\n"
     ]
    }
   ],
   "source": [
    "all_data_fix = [r[:500] for r in all_data]\n",
    "print(len(all_data_fix[123]))\n",
    "print(all_data_fix[0])"
   ]
  },
  {
   "cell_type": "code",
   "execution_count": 27,
   "metadata": {},
   "outputs": [
    {
     "data": {
      "text/plain": [
       "[]"
      ]
     },
     "execution_count": 27,
     "metadata": {},
     "output_type": "execute_result"
    }
   ],
   "source": [
    "len(reviews[123].split())"
   ]
  },
  {
   "cell_type": "code",
   "execution_count": 28,
   "metadata": {},
   "outputs": [
    {
     "data": {
      "text/plain": [
       "(200, 500)"
      ]
     },
     "execution_count": 28,
     "metadata": {},
     "output_type": "execute_result"
    }
   ],
   "source": [
    "def token_docs_to_array(tokenized_documents, maxwords=500):\n",
    "    lst_docs = []\n",
    "    for token_doc in tokenized_documents:\n",
    "        if len(token_doc) > maxwords:\n",
    "            token_doc = token_doc[:maxwords]\n",
    "        else:\n",
    "            token_doc = token_doc + (maxwords - len(token_doc)) * [0]\n",
    "        lst_docs.append(token_doc)\n",
    "    return np.array(lst_docs)\n",
    "\n",
    "np_data = token_docs_to_array(all_data)\n",
    "np_data.shape"
   ]
  },
  {
   "cell_type": "code",
   "execution_count": 29,
   "metadata": {},
   "outputs": [
    {
     "data": {
      "text/plain": [
       "165"
      ]
     },
     "execution_count": 29,
     "metadata": {},
     "output_type": "execute_result"
    }
   ],
   "source": [
    "np.argmin([len(x) for x in all_data])"
   ]
  },
  {
   "cell_type": "code",
   "execution_count": 30,
   "metadata": {},
   "outputs": [
    {
     "data": {
      "text/plain": [
       "[10512,\n",
       " 25,\n",
       " 12,\n",
       " 26,\n",
       " 5,\n",
       " 216,\n",
       " 508,\n",
       " 2,\n",
       " 1882,\n",
       " 5743,\n",
       " 3,\n",
       " 1185,\n",
       " 20239,\n",
       " 6783,\n",
       " 10513,\n",
       " 20240,\n",
       " 9,\n",
       " 3963,\n",
       " 1185,\n",
       " 2929,\n",
       " 6783,\n",
       " 10513,\n",
       " 9,\n",
       " 4895,\n",
       " 5,\n",
       " 61,\n",
       " 10512,\n",
       " 2,\n",
       " 20241,\n",
       " 1280,\n",
       " 6783,\n",
       " 611,\n",
       " 2,\n",
       " 1345]"
      ]
     },
     "execution_count": 30,
     "metadata": {},
     "output_type": "execute_result"
    }
   ],
   "source": [
    "all_data[165]"
   ]
  },
  {
   "cell_type": "code",
   "execution_count": 31,
   "metadata": {},
   "outputs": [
    {
     "data": {
      "text/plain": [
       "' \\n Zigolini este un restaurant cu specific italian si international, localizat in Complexul Comercial Jolie Ville Galleria din Baneasa. \\n Complexul comercial Jolie Ville din Voluntari, cu restaurantele Zigolini si Mandarin, cafeneaua Jolie Cafe si altele…'"
      ]
     },
     "execution_count": 31,
     "metadata": {},
     "output_type": "execute_result"
    }
   ],
   "source": [
    "reviews[165]"
   ]
  },
  {
   "cell_type": "code",
   "execution_count": 32,
   "metadata": {},
   "outputs": [
    {
     "data": {
      "text/plain": [
       "array([10512,    25,    12,    26,     5,   216,   508,     2,  1882,  5743,     3,  1185, 20239,  6783, 10513, 20240,     9,  3963,  1185,  2929,  6783, 10513,     9,  4895,     5,    61, 10512,     2, 20241,  1280,  6783,   611,     2,  1345,     0,     0,     0,     0,     0,     0,     0,     0,     0,     0,     0,     0,     0,     0,     0,     0,     0,     0,     0,     0,     0,     0,     0,     0,     0,     0,     0,     0,     0,     0,     0,     0,     0,     0,     0,     0,\n",
       "           0,     0,     0,     0,     0,     0,     0,     0,     0,     0,     0,     0,     0,     0,     0,     0,     0,     0,     0,     0,     0,     0,     0,     0,     0,     0,     0,     0,     0,     0,     0,     0,     0,     0,     0,     0,     0,     0,     0,     0,     0,     0,     0,     0,     0,     0,     0,     0,     0,     0,     0,     0,     0,     0,     0,     0,     0,     0,     0,     0,     0,     0,     0,     0,     0,     0,     0,     0,     0,     0,\n",
       "           0,     0,     0,     0,     0,     0,     0,     0,     0,     0,     0,     0,     0,     0,     0,     0,     0,     0,     0,     0,     0,     0,     0,     0,     0,     0,     0,     0,     0,     0,     0,     0,     0,     0,     0,     0,     0,     0,     0,     0,     0,     0,     0,     0,     0,     0,     0,     0,     0,     0,     0,     0,     0,     0,     0,     0,     0,     0,     0,     0,     0,     0,     0,     0,     0,     0,     0,     0,     0,     0,\n",
       "           0,     0,     0,     0,     0,     0,     0,     0,     0,     0,     0,     0,     0,     0,     0,     0,     0,     0,     0,     0,     0,     0,     0,     0,     0,     0,     0,     0,     0,     0,     0,     0,     0,     0,     0,     0,     0,     0,     0,     0,     0,     0,     0,     0,     0,     0,     0,     0,     0,     0,     0,     0,     0,     0,     0,     0,     0,     0,     0,     0,     0,     0,     0,     0,     0,     0,     0,     0,     0,     0,\n",
       "           0,     0,     0,     0,     0,     0,     0,     0,     0,     0,     0,     0,     0,     0,     0,     0,     0,     0,     0,     0,     0,     0,     0,     0,     0,     0,     0,     0,     0,     0,     0,     0,     0,     0,     0,     0,     0,     0,     0,     0,     0,     0,     0,     0,     0,     0,     0,     0,     0,     0,     0,     0,     0,     0,     0,     0,     0,     0,     0,     0,     0,     0,     0,     0,     0,     0,     0,     0,     0,     0,\n",
       "           0,     0,     0,     0,     0,     0,     0,     0,     0,     0,     0,     0,     0,     0,     0,     0,     0,     0,     0,     0,     0,     0,     0,     0,     0,     0,     0,     0,     0,     0,     0,     0,     0,     0,     0,     0,     0,     0,     0,     0,     0,     0,     0,     0,     0,     0,     0,     0,     0,     0,     0,     0,     0,     0,     0,     0,     0,     0,     0,     0,     0,     0,     0,     0,     0,     0,     0,     0,     0,     0,\n",
       "           0,     0,     0,     0,     0,     0,     0,     0,     0,     0,     0,     0,     0,     0,     0,     0,     0,     0,     0,     0,     0,     0,     0,     0,     0,     0,     0,     0,     0,     0,     0,     0,     0,     0,     0,     0,     0,     0,     0,     0,     0,     0,     0,     0,     0,     0,     0,     0,     0,     0,     0,     0,     0,     0,     0,     0,     0,     0,     0,     0,     0,     0,     0,     0,     0,     0,     0,     0,     0,     0,\n",
       "           0,     0,     0,     0,     0,     0,     0,     0,     0,     0])"
      ]
     },
     "execution_count": 32,
     "metadata": {},
     "output_type": "execute_result"
    }
   ],
   "source": [
    "np_data[165]"
   ]
  },
  {
   "cell_type": "code",
   "execution_count": 34,
   "metadata": {},
   "outputs": [
    {
     "data": {
      "text/plain": [
       "150"
      ]
     },
     "execution_count": 34,
     "metadata": {},
     "output_type": "execute_result"
    }
   ],
   "source": [
    "y = np.array([int(x.split()[0]) for x in prices])\n",
    "y[165]"
   ]
  },
  {
   "cell_type": "code",
   "execution_count": 59,
   "metadata": {},
   "outputs": [],
   "source": [
    "from sklearn.model_selection import train_test_split\n",
    "\n",
    "#x_train, x_dev, y_train, y_dev = train_test_split(np_data, y, random_state=103, test_size=0.15)\n",
    "# not above split as we have to replicate previous dataset so we can compare results\n",
    "x_train, x_dev, y_train, y_dev = train_test_split(np_data, y, test_size=0.10, random_state=1010)"
   ]
  },
  {
   "cell_type": "code",
   "execution_count": 60,
   "metadata": {},
   "outputs": [
    {
     "name": "stdout",
     "output_type": "stream",
     "text": [
      "(180, 500)\n",
      "(20, 500)\n"
     ]
    }
   ],
   "source": [
    "print(x_train.shape)\n",
    "print(x_dev.shape)\n"
   ]
  },
  {
   "cell_type": "code",
   "execution_count": 36,
   "metadata": {},
   "outputs": [
    {
     "data": {
      "text/plain": [
       "'2.1.0'"
      ]
     },
     "execution_count": 36,
     "metadata": {},
     "output_type": "execute_result"
    }
   ],
   "source": [
    "import tensorflow as tf\n",
    "tf.__version__"
   ]
  },
  {
   "cell_type": "code",
   "execution_count": 61,
   "metadata": {},
   "outputs": [],
   "source": [
    "EPOCHS = 30"
   ]
  },
  {
   "cell_type": "markdown",
   "metadata": {},
   "source": [
    "## Finally we define the simple neural model"
   ]
  },
  {
   "cell_type": "code",
   "execution_count": 68,
   "metadata": {},
   "outputs": [
    {
     "name": "stdout",
     "output_type": "stream",
     "text": [
      "'Categorical' data input Tensor(\"doc_input_4:0\", shape=(None, 500), dtype=float32)\n",
      "<tensorflow.python.keras.layers.embeddings.Embedding object at 0x000002865AE1DC48>\n",
      "Tensor(\"word_embeds_4/Identity:0\", shape=(None, 500, 100), dtype=float32)\n",
      "(22000, 100)\n"
     ]
    }
   ],
   "source": [
    "tf_inp = tf.keras.layers.Input((500,), name='doc_input')\n",
    "print(\"'Categorical' data input\", tf_inp)\n",
    "embedding_projection = tf.keras.layers.Embedding(len(w2i), 100, name='word_embeds')\n",
    "print(embedding_projection)\n",
    "tf_x = embedding_projection(tf_inp)\n",
    "print(tf_x)\n",
    "print(embedding_projection.get_weights()[0].shape)"
   ]
  },
  {
   "cell_type": "code",
   "execution_count": 69,
   "metadata": {},
   "outputs": [
    {
     "name": "stdout",
     "output_type": "stream",
     "text": [
      "Tensor(\"flatten_doc_vectors_2/Identity:0\", shape=(None, 50000), dtype=float32)\n"
     ]
    }
   ],
   "source": [
    "from_2d_to_1d_layer = tf.keras.layers.Flatten(name='flatten_doc_vectors')\n",
    "\n",
    "tf_x = from_2d_to_1d_layer(tf_x)\n",
    "print(tf_x)"
   ]
  },
  {
   "cell_type": "code",
   "execution_count": 70,
   "metadata": {},
   "outputs": [],
   "source": [
    "# add some regularization\n",
    "tf_x = tf.keras.layers.Dropout(0.5, name='hide_the_features')(tf_x)"
   ]
  },
  {
   "cell_type": "code",
   "execution_count": 71,
   "metadata": {},
   "outputs": [
    {
     "name": "stdout",
     "output_type": "stream",
     "text": [
      "Tensor(\"dense_3/Identity:0\", shape=(None, 1), dtype=float32)\n"
     ]
    }
   ],
   "source": [
    "tf_out = tf.keras.layers.Dense(1)(tf_x)\n",
    "print(tf_out)"
   ]
  },
  {
   "cell_type": "code",
   "execution_count": 73,
   "metadata": {},
   "outputs": [
    {
     "name": "stdout",
     "output_type": "stream",
     "text": [
      "Model: \"naive_model\"\n",
      "_________________________________________________________________\n",
      "Layer (type)                 Output Shape              Param #   \n",
      "=================================================================\n",
      "doc_input (InputLayer)       [(None, 500)]             0         \n",
      "_________________________________________________________________\n",
      "word_embeds (Embedding)      (None, 500, 100)          2200000   \n",
      "_________________________________________________________________\n",
      "flatten_doc_vectors (Flatten (None, 50000)             0         \n",
      "_________________________________________________________________\n",
      "hide_the_features (Dropout)  (None, 50000)             0         \n",
      "_________________________________________________________________\n",
      "dense_3 (Dense)              (None, 1)                 50001     \n",
      "=================================================================\n",
      "Total params: 2,250,001\n",
      "Trainable params: 2,250,001\n",
      "Non-trainable params: 0\n",
      "_________________________________________________________________\n"
     ]
    }
   ],
   "source": [
    "model = tf.keras.models.Model(tf_inp, tf_out, name='naive_model')\n",
    "model.compile(optimizer='adam', loss='mse')\n",
    "model.summary()"
   ]
  },
  {
   "cell_type": "code",
   "execution_count": 74,
   "metadata": {},
   "outputs": [
    {
     "name": "stdout",
     "output_type": "stream",
     "text": [
      "Train on 180 samples, validate on 20 samples\n",
      "Epoch 1/30\n",
      "180/180 [==============================] - 1s 3ms/sample - loss: 23446.1763 - val_loss: 23361.7246\n",
      "Epoch 2/30\n",
      "180/180 [==============================] - 0s 742us/sample - loss: 23155.9205 - val_loss: 22960.5938\n",
      "Epoch 3/30\n",
      "180/180 [==============================] - 0s 748us/sample - loss: 22602.5774 - val_loss: 22219.0781\n",
      "Epoch 4/30\n",
      "180/180 [==============================] - 0s 770us/sample - loss: 21653.2257 - val_loss: 20954.2969\n",
      "Epoch 5/30\n",
      "180/180 [==============================] - 0s 704us/sample - loss: 20104.3285 - val_loss: 19027.1602\n",
      "Epoch 6/30\n",
      "180/180 [==============================] - 0s 759us/sample - loss: 17823.7605 - val_loss: 16384.0371\n",
      "Epoch 7/30\n",
      "180/180 [==============================] - 0s 909us/sample - loss: 14807.4037 - val_loss: 13159.6973\n",
      "Epoch 8/30\n",
      "180/180 [==============================] - 0s 842us/sample - loss: 11231.9973 - val_loss: 9731.1855\n",
      "Epoch 9/30\n",
      "180/180 [==============================] - 0s 803us/sample - loss: 7788.8178 - val_loss: 6651.6821\n",
      "Epoch 10/30\n",
      "180/180 [==============================] - 0s 821us/sample - loss: 4859.5569 - val_loss: 4582.4619\n",
      "Epoch 11/30\n",
      "180/180 [==============================] - 0s 852us/sample - loss: 3157.6548 - val_loss: 3692.5356\n",
      "Epoch 12/30\n",
      "180/180 [==============================] - 0s 798us/sample - loss: 2654.3388 - val_loss: 3581.5125\n",
      "Epoch 13/30\n",
      "180/180 [==============================] - 0s 826us/sample - loss: 2571.8266 - val_loss: 3575.3501\n",
      "Epoch 14/30\n",
      "180/180 [==============================] - 0s 820us/sample - loss: 2458.3798 - val_loss: 3486.7944\n",
      "Epoch 15/30\n",
      "180/180 [==============================] - 0s 765us/sample - loss: 2242.4499 - val_loss: 3409.7681\n",
      "Epoch 16/30\n",
      "180/180 [==============================] - 0s 765us/sample - loss: 2048.5248 - val_loss: 3409.5632\n",
      "Epoch 17/30\n",
      "180/180 [==============================] - 0s 759us/sample - loss: 1927.1742 - val_loss: 3427.9375\n",
      "Epoch 18/30\n",
      "180/180 [==============================] - 0s 798us/sample - loss: 1828.1293 - val_loss: 3428.1985\n",
      "Epoch 19/30\n",
      "180/180 [==============================] - 0s 726us/sample - loss: 1746.6518 - val_loss: 3398.0239\n",
      "Epoch 20/30\n",
      "180/180 [==============================] - 0s 773us/sample - loss: 1638.4927 - val_loss: 3373.9976\n",
      "Epoch 21/30\n",
      "180/180 [==============================] - 0s 820us/sample - loss: 1558.0193 - val_loss: 3355.1323\n",
      "Epoch 22/30\n",
      "180/180 [==============================] - 0s 726us/sample - loss: 1472.6442 - val_loss: 3330.5227\n",
      "Epoch 23/30\n",
      "180/180 [==============================] - 0s 753us/sample - loss: 1386.2498 - val_loss: 3312.7058\n",
      "Epoch 24/30\n",
      "180/180 [==============================] - 0s 765us/sample - loss: 1303.2608 - val_loss: 3304.7661\n",
      "Epoch 25/30\n",
      "180/180 [==============================] - 0s 796us/sample - loss: 1229.1692 - val_loss: 3289.7507\n",
      "Epoch 26/30\n",
      "180/180 [==============================] - 0s 729us/sample - loss: 1160.4684 - val_loss: 3273.0693\n",
      "Epoch 27/30\n",
      "180/180 [==============================] - 0s 742us/sample - loss: 1091.2376 - val_loss: 3258.7144\n",
      "Epoch 28/30\n",
      "180/180 [==============================] - 0s 754us/sample - loss: 1024.8834 - val_loss: 3246.7056\n",
      "Epoch 29/30\n",
      "180/180 [==============================] - 0s 748us/sample - loss: 952.4438 - val_loss: 3237.2136\n",
      "Epoch 30/30\n",
      "180/180 [==============================] - 0s 875us/sample - loss: 886.6792 - val_loss: 3225.5691\n"
     ]
    }
   ],
   "source": [
    "hist = model.fit(\n",
    "    x=x_train,\n",
    "    y=y_train,\n",
    "    validation_data=(x_dev, y_dev),\n",
    "    epochs=EPOCHS\n",
    ")"
   ]
  },
  {
   "cell_type": "code",
   "execution_count": 75,
   "metadata": {},
   "outputs": [
    {
     "data": {
      "image/png": "[encoded data removed]",
      "text/plain": [
       "<Figure size 432x288 with 1 Axes>"
      ]
     },
     "metadata": {},
     "output_type": "display_data"
    }
   ],
   "source": [
    "htrn = hist.history['loss']\n",
    "hdev = hist.history['val_loss']\n",
    "n_ep = len(htrn)\n",
    "plt.figure()\n",
    "plt.plot(np.arange(n_ep), htrn, label='train loss')\n",
    "plt.plot(np.arange(n_ep), hdev, label='dev loss')\n",
    "plt.legend()\n",
    "plt.show()"
   ]
  },
  {
   "cell_type": "code",
   "execution_count": 76,
   "metadata": {},
   "outputs": [],
   "source": [
    "y_pred = model.predict(x_dev)"
   ]
  },
  {
   "cell_type": "code",
   "execution_count": 77,
   "metadata": {},
   "outputs": [
    {
     "name": "stdout",
     "output_type": "stream",
     "text": [
      "(20,)\n",
      "(20, 1)\n"
     ]
    }
   ],
   "source": [
    "print(y_dev.shape)\n",
    "print(y_pred.shape)"
   ]
  },
  {
   "cell_type": "code",
   "execution_count": 79,
   "metadata": {},
   "outputs": [
    {
     "data": {
      "text/html": [
       "<div>\n",
       "<style scoped>\n",
       "    .dataframe tbody tr th:only-of-type {\n",
       "        vertical-align: middle;\n",
       "    }\n",
       "\n",
       "    .dataframe tbody tr th {\n",
       "        vertical-align: top;\n",
       "    }\n",
       "\n",
       "    .dataframe thead th {\n",
       "        text-align: right;\n",
       "    }\n",
       "</style>\n",
       "<table border=\"1\" class=\"dataframe\">\n",
       "  <thead>\n",
       "    <tr style=\"text-align: right;\">\n",
       "      <th></th>\n",
       "      <th>Reality</th>\n",
       "      <th>Predictions</th>\n",
       "    </tr>\n",
       "  </thead>\n",
       "  <tbody>\n",
       "    <tr>\n",
       "      <th>0</th>\n",
       "      <td>77</td>\n",
       "      <td>136.3239</td>\n",
       "    </tr>\n",
       "    <tr>\n",
       "      <th>1</th>\n",
       "      <td>104</td>\n",
       "      <td>128.0332</td>\n",
       "    </tr>\n",
       "    <tr>\n",
       "      <th>2</th>\n",
       "      <td>259</td>\n",
       "      <td>143.9572</td>\n",
       "    </tr>\n",
       "    <tr>\n",
       "      <th>3</th>\n",
       "      <td>82</td>\n",
       "      <td>129.0994</td>\n",
       "    </tr>\n",
       "    <tr>\n",
       "      <th>4</th>\n",
       "      <td>106</td>\n",
       "      <td>132.8245</td>\n",
       "    </tr>\n",
       "    <tr>\n",
       "      <th>5</th>\n",
       "      <td>208</td>\n",
       "      <td>150.5580</td>\n",
       "    </tr>\n",
       "    <tr>\n",
       "      <th>6</th>\n",
       "      <td>117</td>\n",
       "      <td>139.4830</td>\n",
       "    </tr>\n",
       "    <tr>\n",
       "      <th>7</th>\n",
       "      <td>82</td>\n",
       "      <td>133.5465</td>\n",
       "    </tr>\n",
       "    <tr>\n",
       "      <th>8</th>\n",
       "      <td>189</td>\n",
       "      <td>152.8024</td>\n",
       "    </tr>\n",
       "    <tr>\n",
       "      <th>9</th>\n",
       "      <td>130</td>\n",
       "      <td>145.2874</td>\n",
       "    </tr>\n",
       "    <tr>\n",
       "      <th>10</th>\n",
       "      <td>109</td>\n",
       "      <td>138.3416</td>\n",
       "    </tr>\n",
       "    <tr>\n",
       "      <th>11</th>\n",
       "      <td>176</td>\n",
       "      <td>145.5362</td>\n",
       "    </tr>\n",
       "    <tr>\n",
       "      <th>12</th>\n",
       "      <td>136</td>\n",
       "      <td>151.7270</td>\n",
       "    </tr>\n",
       "    <tr>\n",
       "      <th>13</th>\n",
       "      <td>131</td>\n",
       "      <td>134.3911</td>\n",
       "    </tr>\n",
       "    <tr>\n",
       "      <th>14</th>\n",
       "      <td>70</td>\n",
       "      <td>132.4031</td>\n",
       "    </tr>\n",
       "    <tr>\n",
       "      <th>15</th>\n",
       "      <td>187</td>\n",
       "      <td>127.3309</td>\n",
       "    </tr>\n",
       "    <tr>\n",
       "      <th>16</th>\n",
       "      <td>109</td>\n",
       "      <td>137.8109</td>\n",
       "    </tr>\n",
       "    <tr>\n",
       "      <th>17</th>\n",
       "      <td>115</td>\n",
       "      <td>142.0200</td>\n",
       "    </tr>\n",
       "    <tr>\n",
       "      <th>18</th>\n",
       "      <td>288</td>\n",
       "      <td>132.5464</td>\n",
       "    </tr>\n",
       "    <tr>\n",
       "      <th>19</th>\n",
       "      <td>163</td>\n",
       "      <td>131.2620</td>\n",
       "    </tr>\n",
       "  </tbody>\n",
       "</table>\n",
       "</div>"
      ],
      "text/plain": [
       "    Reality  Predictions\n",
       "0        77     136.3239\n",
       "1       104     128.0332\n",
       "2       259     143.9572\n",
       "3        82     129.0994\n",
       "4       106     132.8245\n",
       "5       208     150.5580\n",
       "6       117     139.4830\n",
       "7        82     133.5465\n",
       "8       189     152.8024\n",
       "9       130     145.2874\n",
       "10      109     138.3416\n",
       "11      176     145.5362\n",
       "12      136     151.7270\n",
       "13      131     134.3911\n",
       "14       70     132.4031\n",
       "15      187     127.3309\n",
       "16      109     137.8109\n",
       "17      115     142.0200\n",
       "18      288     132.5464\n",
       "19      163     131.2620"
      ]
     },
     "execution_count": 79,
     "metadata": {},
     "output_type": "execute_result"
    }
   ],
   "source": [
    "\n",
    "df_res = pd.DataFrame(\n",
    "    dict(\n",
    "        Reality=y_dev,\n",
    "        Predictions=y_pred.ravel()\n",
    "    )\n",
    ")\n",
    "df_res"
   ]
  },
  {
   "cell_type": "markdown",
   "metadata": {},
   "source": [
    "## NN HORECA Review Based Price Inference -  Homework ToDo\n",
    "\n",
    "1. Maybe add more layers\n",
    "2. Maybe change the way we naively transform from 500x100 to 50,000 vector?\n",
    "3. Maybe train for more epochs\n",
    "4. Maybe stop training at best val loss point\n",
    "5. Review results"
   ]
  },
  {
   "cell_type": "code",
   "execution_count": null,
   "metadata": {},
   "outputs": [],
   "source": []
  }
 ],
 "metadata": {
  "kernelspec": {
   "display_name": "Python 3",
   "language": "python",
   "name": "python3"
  },
  "language_info": {
   "codemirror_mode": {
    "name": "ipython",
    "version": 3
   },
   "file_extension": ".py",
   "mimetype": "text/x-python",
   "name": "python",
   "nbconvert_exporter": "python",
   "pygments_lexer": "ipython3",
   "version": "3.7.4"
  }
 },
 "nbformat": 4,
 "nbformat_minor": 4
}
